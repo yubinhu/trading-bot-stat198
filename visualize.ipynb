{
 "cells": [
  {
   "cell_type": "code",
   "execution_count": 1,
   "metadata": {},
   "outputs": [],
   "source": [
    "import pandas as pd\n",
    "import numpy as np\n",
    "\n",
    "import altair as alt\n",
    "import seaborn as sns"
   ]
  },
  {
   "cell_type": "code",
   "execution_count": 2,
   "metadata": {},
   "outputs": [
    {
     "name": "stderr",
     "output_type": "stream",
     "text": [
      "/Users/victorli/miniconda3/envs/trading-bot/lib/python3.7/site-packages/tensorflow/python/framework/dtypes.py:516: FutureWarning: Passing (type, 1) or '1type' as a synonym of type is deprecated; in a future version of numpy, it will be understood as (type, (1,)) / '(1,)type'.\n",
      "  _np_qint8 = np.dtype([(\"qint8\", np.int8, 1)])\n",
      "/Users/victorli/miniconda3/envs/trading-bot/lib/python3.7/site-packages/tensorflow/python/framework/dtypes.py:517: FutureWarning: Passing (type, 1) or '1type' as a synonym of type is deprecated; in a future version of numpy, it will be understood as (type, (1,)) / '(1,)type'.\n",
      "  _np_quint8 = np.dtype([(\"quint8\", np.uint8, 1)])\n",
      "/Users/victorli/miniconda3/envs/trading-bot/lib/python3.7/site-packages/tensorflow/python/framework/dtypes.py:518: FutureWarning: Passing (type, 1) or '1type' as a synonym of type is deprecated; in a future version of numpy, it will be understood as (type, (1,)) / '(1,)type'.\n",
      "  _np_qint16 = np.dtype([(\"qint16\", np.int16, 1)])\n",
      "/Users/victorli/miniconda3/envs/trading-bot/lib/python3.7/site-packages/tensorflow/python/framework/dtypes.py:519: FutureWarning: Passing (type, 1) or '1type' as a synonym of type is deprecated; in a future version of numpy, it will be understood as (type, (1,)) / '(1,)type'.\n",
      "  _np_quint16 = np.dtype([(\"quint16\", np.uint16, 1)])\n",
      "/Users/victorli/miniconda3/envs/trading-bot/lib/python3.7/site-packages/tensorflow/python/framework/dtypes.py:520: FutureWarning: Passing (type, 1) or '1type' as a synonym of type is deprecated; in a future version of numpy, it will be understood as (type, (1,)) / '(1,)type'.\n",
      "  _np_qint32 = np.dtype([(\"qint32\", np.int32, 1)])\n",
      "/Users/victorli/miniconda3/envs/trading-bot/lib/python3.7/site-packages/tensorflow/python/framework/dtypes.py:525: FutureWarning: Passing (type, 1) or '1type' as a synonym of type is deprecated; in a future version of numpy, it will be understood as (type, (1,)) / '(1,)type'.\n",
      "  np_resource = np.dtype([(\"resource\", np.ubyte, 1)])\n",
      "/Users/victorli/miniconda3/envs/trading-bot/lib/python3.7/site-packages/tensorboard/compat/tensorflow_stub/dtypes.py:541: FutureWarning: Passing (type, 1) or '1type' as a synonym of type is deprecated; in a future version of numpy, it will be understood as (type, (1,)) / '(1,)type'.\n",
      "  _np_qint8 = np.dtype([(\"qint8\", np.int8, 1)])\n",
      "/Users/victorli/miniconda3/envs/trading-bot/lib/python3.7/site-packages/tensorboard/compat/tensorflow_stub/dtypes.py:542: FutureWarning: Passing (type, 1) or '1type' as a synonym of type is deprecated; in a future version of numpy, it will be understood as (type, (1,)) / '(1,)type'.\n",
      "  _np_quint8 = np.dtype([(\"quint8\", np.uint8, 1)])\n",
      "/Users/victorli/miniconda3/envs/trading-bot/lib/python3.7/site-packages/tensorboard/compat/tensorflow_stub/dtypes.py:543: FutureWarning: Passing (type, 1) or '1type' as a synonym of type is deprecated; in a future version of numpy, it will be understood as (type, (1,)) / '(1,)type'.\n",
      "  _np_qint16 = np.dtype([(\"qint16\", np.int16, 1)])\n",
      "/Users/victorli/miniconda3/envs/trading-bot/lib/python3.7/site-packages/tensorboard/compat/tensorflow_stub/dtypes.py:544: FutureWarning: Passing (type, 1) or '1type' as a synonym of type is deprecated; in a future version of numpy, it will be understood as (type, (1,)) / '(1,)type'.\n",
      "  _np_quint16 = np.dtype([(\"quint16\", np.uint16, 1)])\n",
      "/Users/victorli/miniconda3/envs/trading-bot/lib/python3.7/site-packages/tensorboard/compat/tensorflow_stub/dtypes.py:545: FutureWarning: Passing (type, 1) or '1type' as a synonym of type is deprecated; in a future version of numpy, it will be understood as (type, (1,)) / '(1,)type'.\n",
      "  _np_qint32 = np.dtype([(\"qint32\", np.int32, 1)])\n",
      "/Users/victorli/miniconda3/envs/trading-bot/lib/python3.7/site-packages/tensorboard/compat/tensorflow_stub/dtypes.py:550: FutureWarning: Passing (type, 1) or '1type' as a synonym of type is deprecated; in a future version of numpy, it will be understood as (type, (1,)) / '(1,)type'.\n",
      "  np_resource = np.dtype([(\"resource\", np.ubyte, 1)])\n",
      "Using TensorFlow backend.\n"
     ]
    },
    {
     "name": "stdout",
     "output_type": "stream",
     "text": [
      "WARNING:tensorflow:From /Users/victorli/Workspace/trading-bot-stat198/trading_bot/agent.py:25: add_dispatch_support.<locals>.wrapper (from tensorflow.python.ops.array_ops) is deprecated and will be removed in a future version.\n",
      "Instructions for updating:\n",
      "Use tf.where in 2.0, which has the same broadcast rule as np.where\n"
     ]
    },
    {
     "name": "stderr",
     "output_type": "stream",
     "text": [
      "2022-12-07 11:35:57.429986: I tensorflow/core/platform/cpu_feature_guard.cc:142] Your CPU supports instructions that this TensorFlow binary was not compiled to use: AVX2 FMA\n"
     ]
    },
    {
     "name": "stdout",
     "output_type": "stream",
     "text": [
      "WARNING:tensorflow:From /Users/victorli/miniconda3/envs/trading-bot/lib/python3.7/site-packages/keras/backend/tensorflow_backend.py:422: The name tf.global_variables is deprecated. Please use tf.compat.v1.global_variables instead.\n",
      "\n"
     ]
    }
   ],
   "source": [
    "from trading_bot.agent import Agent\n",
    "\n",
    "model_name = 't-dqn-TSLA_30'\n",
    "test_stock = 'new_data/AAPL_2022.csv'\n",
    "window_size = 10\n",
    "debug = False\n",
    "\n",
    "agent = Agent(window_size, pretrained=True, model_name=model_name)"
   ]
  },
  {
   "cell_type": "code",
   "execution_count": 3,
   "metadata": {},
   "outputs": [
    {
     "data": {
      "text/html": [
       "<div>\n",
       "<style scoped>\n",
       "    .dataframe tbody tr th:only-of-type {\n",
       "        vertical-align: middle;\n",
       "    }\n",
       "\n",
       "    .dataframe tbody tr th {\n",
       "        vertical-align: top;\n",
       "    }\n",
       "\n",
       "    .dataframe thead th {\n",
       "        text-align: right;\n",
       "    }\n",
       "</style>\n",
       "<table border=\"1\" class=\"dataframe\">\n",
       "  <thead>\n",
       "    <tr style=\"text-align: right;\">\n",
       "      <th></th>\n",
       "      <th>date</th>\n",
       "      <th>actual</th>\n",
       "    </tr>\n",
       "  </thead>\n",
       "  <tbody>\n",
       "    <tr>\n",
       "      <th>0</th>\n",
       "      <td>2022-01-03</td>\n",
       "      <td>180.959747</td>\n",
       "    </tr>\n",
       "    <tr>\n",
       "      <th>1</th>\n",
       "      <td>2022-01-04</td>\n",
       "      <td>178.663071</td>\n",
       "    </tr>\n",
       "    <tr>\n",
       "      <th>2</th>\n",
       "      <td>2022-01-05</td>\n",
       "      <td>173.910660</td>\n",
       "    </tr>\n",
       "    <tr>\n",
       "      <th>3</th>\n",
       "      <td>2022-01-06</td>\n",
       "      <td>171.007523</td>\n",
       "    </tr>\n",
       "    <tr>\n",
       "      <th>4</th>\n",
       "      <td>2022-01-07</td>\n",
       "      <td>171.176529</td>\n",
       "    </tr>\n",
       "  </tbody>\n",
       "</table>\n",
       "</div>"
      ],
      "text/plain": [
       "        date      actual\n",
       "0 2022-01-03  180.959747\n",
       "1 2022-01-04  178.663071\n",
       "2 2022-01-05  173.910660\n",
       "3 2022-01-06  171.007523\n",
       "4 2022-01-07  171.176529"
      ]
     },
     "execution_count": 3,
     "metadata": {},
     "output_type": "execute_result"
    }
   ],
   "source": [
    "# read csv into dataframe\n",
    "df = pd.read_csv(test_stock)\n",
    "# filter out the desired features\n",
    "df = df[['Date', 'Adj Close']]\n",
    "# rename feature column names\n",
    "df = df.rename(columns={'Adj Close': 'actual', 'Date': 'date'})\n",
    "# convert dates from object to DateTime type\n",
    "dates = df['date']\n",
    "dates = pd.to_datetime(dates, infer_datetime_format=True)\n",
    "df['date'] = dates\n",
    "\n",
    "df.head()"
   ]
  },
  {
   "cell_type": "code",
   "execution_count": 23,
   "metadata": {},
   "outputs": [],
   "source": [
    "import logging\n",
    "import coloredlogs\n",
    "from trading_bot.agent import Agent\n",
    "\n",
    "from trading_bot.utils import show_eval_result, switch_k_backend_device, get_stock_data\n",
    "from trading_bot.methods import evaluate_model\n",
    "\n",
    "coloredlogs.install(level='CRITICAL')\n",
    "switch_k_backend_device()\n",
    "\n",
    "test_data = get_stock_data(test_stock)\n",
    "initial_offset = test_data[1] - test_data[0]\n",
    "\n",
    "test_result, history = evaluate_model(agent, test_data, window_size, debug)\n",
    "show_eval_result(model_name, test_result, initial_offset)\n"
   ]
  },
  {
   "cell_type": "code",
   "execution_count": 58,
   "metadata": {},
   "outputs": [],
   "source": [
    "def get_return(model_name = 't-dqn-TSLA_30', test_stock = \"AAPL\"):\n",
    "    test_stock = 'new_data/' + test_stock + '_2022.csv'\n",
    "    window_size = 10\n",
    "    debug = False\n",
    "    if model_name == \"random\":\n",
    "        agent = Agent(window_size, pretrained=True, strategy=\"uniform-rand\")\n",
    "    else:\n",
    "        agent = Agent(window_size, pretrained=True, model_name=model_name)\n",
    "    # read csv into dataframe\n",
    "    df = pd.read_csv(test_stock)\n",
    "    # filter out the desired features\n",
    "    df = df[['Date', 'Adj Close']]\n",
    "    # rename feature column names\n",
    "    df = df.rename(columns={'Adj Close': 'actual', 'Date': 'date'})\n",
    "    # convert dates from object to DateTime type\n",
    "    dates = df['date']\n",
    "    dates = pd.to_datetime(dates, infer_datetime_format=True)\n",
    "    df['date'] = dates\n",
    "    coloredlogs.install(level='DEBUG')\n",
    "    switch_k_backend_device()\n",
    "\n",
    "    test_data = get_stock_data(test_stock)\n",
    "    initial_offset = test_data[1] - test_data[0]\n",
    "\n",
    "    test_result, history = evaluate_model(agent, test_data, window_size, debug)\n",
    "    return test_result, history"
   ]
  },
  {
   "cell_type": "code",
   "execution_count": 39,
   "metadata": {},
   "outputs": [
    {
     "name": "stderr",
     "output_type": "stream",
     "text": [
      "2022-12-07 17:03:59 Victors-MacBook-Pro-16.local root[22603] DEBUG switching to TensorFlow for CPU\n",
      "2022-12-07 17:04:00 Victors-MacBook-Pro-16.local root[22603] DEBUG switching to TensorFlow for CPU\n",
      "2022-12-07 17:04:00 Victors-MacBook-Pro-16.local root[22603] DEBUG switching to TensorFlow for CPU\n",
      "2022-12-07 17:04:00 Victors-MacBook-Pro-16.local root[22603] DEBUG switching to TensorFlow for CPU\n",
      "2022-12-07 17:04:00 Victors-MacBook-Pro-16.local root[22603] DEBUG switching to TensorFlow for CPU\n",
      "2022-12-07 17:04:00 Victors-MacBook-Pro-16.local root[22603] DEBUG switching to TensorFlow for CPU\n",
      "2022-12-07 17:04:00 Victors-MacBook-Pro-16.local root[22603] DEBUG switching to TensorFlow for CPU\n",
      "2022-12-07 17:04:00 Victors-MacBook-Pro-16.local root[22603] DEBUG switching to TensorFlow for CPU\n",
      "2022-12-07 17:04:01 Victors-MacBook-Pro-16.local root[22603] DEBUG switching to TensorFlow for CPU\n",
      "2022-12-07 17:04:01 Victors-MacBook-Pro-16.local root[22603] DEBUG switching to TensorFlow for CPU\n"
     ]
    },
    {
     "data": {
      "text/plain": [
       "(-4966.445124900003, 3119.3230283330654)"
      ]
     },
     "execution_count": 39,
     "metadata": {},
     "output_type": "execute_result"
    }
   ],
   "source": [
    "TSLA_randoms = [get_return(\"random\", \"TSLA\") for _ in range(10)]\n",
    "# QQQ_randoms = [get_return(\"random\", \"QQQ\") for _ in range(10)]\n",
    "np.mean(TSLA_randoms), np.std(TSLA_randoms)"
   ]
  },
  {
   "cell_type": "code",
   "execution_count": 7,
   "metadata": {},
   "outputs": [
    {
     "data": {
      "text/plain": [
       "(-7210.864861800005, 4945.166205299557)"
      ]
     },
     "execution_count": 7,
     "metadata": {},
     "output_type": "execute_result"
    }
   ],
   "source": [
    "np.mean(TSLA_randoms), np.std(TSLA_randoms)"
   ]
  },
  {
   "cell_type": "code",
   "execution_count": 17,
   "metadata": {},
   "outputs": [
    {
     "name": "stderr",
     "output_type": "stream",
     "text": [
      "2022-12-07 11:36:37 victors-mbp-16.lan root[22603] DEBUG switching to TensorFlow for CPU\n",
      "2022-12-07 11:36:37 victors-mbp-16.lan root[22603] DEBUG switching to TensorFlow for CPU\n",
      "2022-12-07 11:36:37 victors-mbp-16.lan root[22603] DEBUG switching to TensorFlow for CPU\n",
      "2022-12-07 11:36:37 victors-mbp-16.lan root[22603] DEBUG switching to TensorFlow for CPU\n",
      "2022-12-07 11:36:37 victors-mbp-16.lan root[22603] DEBUG switching to TensorFlow for CPU\n",
      "2022-12-07 11:36:38 victors-mbp-16.lan root[22603] DEBUG switching to TensorFlow for CPU\n",
      "2022-12-07 11:36:38 victors-mbp-16.lan root[22603] DEBUG switching to TensorFlow for CPU\n",
      "2022-12-07 11:36:38 victors-mbp-16.lan root[22603] DEBUG switching to TensorFlow for CPU\n",
      "2022-12-07 11:36:38 victors-mbp-16.lan root[22603] DEBUG switching to TensorFlow for CPU\n",
      "2022-12-07 11:36:38 victors-mbp-16.lan root[22603] DEBUG switching to TensorFlow for CPU\n"
     ]
    },
    {
     "data": {
      "text/plain": [
       "(-1169.1377924000014, 570.6643893535987)"
      ]
     },
     "execution_count": 17,
     "metadata": {},
     "output_type": "execute_result"
    }
   ],
   "source": [
    "AAPL_randoms = [get_return(\"random\", \"AAPL\") for _ in range(10)]\n",
    "np.mean(AAPL_randoms), np.std(AAPL_randoms)"
   ]
  },
  {
   "cell_type": "code",
   "execution_count": 45,
   "metadata": {},
   "outputs": [
    {
     "name": "stderr",
     "output_type": "stream",
     "text": [
      "2022-12-07 17:07:44 Victors-MacBook-Pro-16.local root[22603] DEBUG switching to TensorFlow for CPU\n",
      "2022-12-07 17:07:44 Victors-MacBook-Pro-16.local root[22603] DEBUG switching to TensorFlow for CPU\n",
      "2022-12-07 17:07:44 Victors-MacBook-Pro-16.local root[22603] DEBUG switching to TensorFlow for CPU\n",
      "2022-12-07 17:07:45 Victors-MacBook-Pro-16.local root[22603] DEBUG switching to TensorFlow for CPU\n",
      "2022-12-07 17:07:45 Victors-MacBook-Pro-16.local root[22603] DEBUG switching to TensorFlow for CPU\n",
      "2022-12-07 17:07:45 Victors-MacBook-Pro-16.local root[22603] DEBUG switching to TensorFlow for CPU\n",
      "2022-12-07 17:07:45 Victors-MacBook-Pro-16.local root[22603] DEBUG switching to TensorFlow for CPU\n",
      "2022-12-07 17:07:45 Victors-MacBook-Pro-16.local root[22603] DEBUG switching to TensorFlow for CPU\n",
      "2022-12-07 17:07:45 Victors-MacBook-Pro-16.local root[22603] DEBUG switching to TensorFlow for CPU\n",
      "2022-12-07 17:07:45 Victors-MacBook-Pro-16.local root[22603] DEBUG switching to TensorFlow for CPU\n"
     ]
    },
    {
     "data": {
      "text/plain": [
       "(-3975.4881386999987, 2733.0886825635343)"
      ]
     },
     "execution_count": 45,
     "metadata": {},
     "output_type": "execute_result"
    }
   ],
   "source": [
    "QQQ_randoms = [get_return(\"random\", \"QQQ\") for _ in range(10)]\n",
    "np.mean(QQQ_randoms), np.std(QQQ_randoms)"
   ]
  },
  {
   "cell_type": "code",
   "execution_count": 25,
   "metadata": {},
   "outputs": [
    {
     "name": "stderr",
     "output_type": "stream",
     "text": [
      "2022-12-07 11:47:07 victors-mbp-16.lan root[22603] DEBUG switching to TensorFlow for CPU\n"
     ]
    },
    {
     "name": "stdout",
     "output_type": "stream",
     "text": [
      "10 QQQ dqn-TSLA 0\n"
     ]
    },
    {
     "name": "stderr",
     "output_type": "stream",
     "text": [
      "2022-12-07 11:47:15 victors-mbp-16.lan root[22603] DEBUG switching to TensorFlow for CPU\n"
     ]
    },
    {
     "name": "stdout",
     "output_type": "stream",
     "text": [
      "20 QQQ dqn-TSLA -588.9582270000005\n"
     ]
    },
    {
     "name": "stderr",
     "output_type": "stream",
     "text": [
      "2022-12-07 11:47:24 victors-mbp-16.lan root[22603] DEBUG switching to TensorFlow for CPU\n"
     ]
    },
    {
     "name": "stdout",
     "output_type": "stream",
     "text": [
      "30 QQQ dqn-TSLA -166.47381800000028\n"
     ]
    },
    {
     "name": "stderr",
     "output_type": "stream",
     "text": [
      "2022-12-07 11:47:32 victors-mbp-16.lan root[22603] DEBUG switching to TensorFlow for CPU\n"
     ]
    },
    {
     "name": "stdout",
     "output_type": "stream",
     "text": [
      "40 QQQ dqn-TSLA 0\n"
     ]
    },
    {
     "name": "stderr",
     "output_type": "stream",
     "text": [
      "2022-12-07 11:47:41 victors-mbp-16.lan root[22603] DEBUG switching to TensorFlow for CPU\n"
     ]
    },
    {
     "name": "stdout",
     "output_type": "stream",
     "text": [
      "50 QQQ dqn-TSLA 0\n"
     ]
    },
    {
     "name": "stderr",
     "output_type": "stream",
     "text": [
      "2022-12-07 11:47:50 victors-mbp-16.lan root[22603] DEBUG switching to TensorFlow for CPU\n"
     ]
    },
    {
     "name": "stdout",
     "output_type": "stream",
     "text": [
      "10 QQQ t-dqn-TSLA -5832.938130000003\n"
     ]
    },
    {
     "name": "stderr",
     "output_type": "stream",
     "text": [
      "2022-12-07 11:48:00 victors-mbp-16.lan root[22603] DEBUG switching to TensorFlow for CPU\n"
     ]
    },
    {
     "name": "stdout",
     "output_type": "stream",
     "text": [
      "20 QQQ t-dqn-TSLA -219.40308799999934\n"
     ]
    },
    {
     "name": "stderr",
     "output_type": "stream",
     "text": [
      "2022-12-07 11:48:10 victors-mbp-16.lan root[22603] DEBUG switching to TensorFlow for CPU\n"
     ]
    },
    {
     "name": "stdout",
     "output_type": "stream",
     "text": [
      "30 QQQ t-dqn-TSLA 3.389739000000361\n"
     ]
    },
    {
     "name": "stderr",
     "output_type": "stream",
     "text": [
      "2022-12-07 11:48:20 victors-mbp-16.lan root[22603] DEBUG switching to TensorFlow for CPU\n"
     ]
    },
    {
     "name": "stdout",
     "output_type": "stream",
     "text": [
      "40 QQQ t-dqn-TSLA 0\n"
     ]
    },
    {
     "name": "stderr",
     "output_type": "stream",
     "text": [
      "2022-12-07 11:48:31 victors-mbp-16.lan root[22603] DEBUG switching to TensorFlow for CPU\n"
     ]
    },
    {
     "name": "stdout",
     "output_type": "stream",
     "text": [
      "50 QQQ t-dqn-TSLA 0\n"
     ]
    },
    {
     "name": "stderr",
     "output_type": "stream",
     "text": [
      "2022-12-07 11:48:42 victors-mbp-16.lan root[22603] DEBUG switching to TensorFlow for CPU\n"
     ]
    },
    {
     "name": "stdout",
     "output_type": "stream",
     "text": [
      "10 QQQ double-dqn-TSLA -744.5490239999991\n"
     ]
    },
    {
     "name": "stderr",
     "output_type": "stream",
     "text": [
      "2022-12-07 11:48:53 victors-mbp-16.lan root[22603] DEBUG switching to TensorFlow for CPU\n"
     ]
    },
    {
     "name": "stdout",
     "output_type": "stream",
     "text": [
      "20 QQQ double-dqn-TSLA 0\n"
     ]
    },
    {
     "name": "stderr",
     "output_type": "stream",
     "text": [
      "2022-12-07 11:49:05 victors-mbp-16.lan root[22603] DEBUG switching to TensorFlow for CPU\n"
     ]
    },
    {
     "name": "stdout",
     "output_type": "stream",
     "text": [
      "30 QQQ double-dqn-TSLA 0\n"
     ]
    },
    {
     "name": "stderr",
     "output_type": "stream",
     "text": [
      "2022-12-07 11:49:18 victors-mbp-16.lan root[22603] DEBUG switching to TensorFlow for CPU\n"
     ]
    },
    {
     "name": "stdout",
     "output_type": "stream",
     "text": [
      "40 QQQ double-dqn-TSLA 0\n"
     ]
    },
    {
     "name": "stderr",
     "output_type": "stream",
     "text": [
      "2022-12-07 11:49:30 victors-mbp-16.lan root[22603] DEBUG switching to TensorFlow for CPU\n"
     ]
    },
    {
     "name": "stdout",
     "output_type": "stream",
     "text": [
      "50 QQQ double-dqn-TSLA 0\n"
     ]
    },
    {
     "name": "stderr",
     "output_type": "stream",
     "text": [
      "2022-12-07 11:49:43 victors-mbp-16.lan root[22603] DEBUG switching to TensorFlow for CPU\n"
     ]
    },
    {
     "name": "stdout",
     "output_type": "stream",
     "text": [
      "10 QQQ t-dqn-AAPL -710.9791220000022\n"
     ]
    },
    {
     "name": "stderr",
     "output_type": "stream",
     "text": [
      "2022-12-07 11:49:57 victors-mbp-16.lan root[22603] DEBUG switching to TensorFlow for CPU\n"
     ]
    },
    {
     "name": "stdout",
     "output_type": "stream",
     "text": [
      "20 QQQ t-dqn-AAPL -7974.839426999995\n"
     ]
    },
    {
     "name": "stderr",
     "output_type": "stream",
     "text": [
      "2022-12-07 11:50:10 victors-mbp-16.lan root[22603] DEBUG switching to TensorFlow for CPU\n"
     ]
    },
    {
     "name": "stdout",
     "output_type": "stream",
     "text": [
      "30 QQQ t-dqn-AAPL -9960.382602999973\n"
     ]
    },
    {
     "name": "stderr",
     "output_type": "stream",
     "text": [
      "2022-12-07 11:50:25 victors-mbp-16.lan root[22603] DEBUG switching to TensorFlow for CPU\n"
     ]
    },
    {
     "name": "stdout",
     "output_type": "stream",
     "text": [
      "40 QQQ t-dqn-AAPL -15401.017671999996\n"
     ]
    },
    {
     "name": "stderr",
     "output_type": "stream",
     "text": [
      "2022-12-07 11:50:39 victors-mbp-16.lan root[22603] DEBUG switching to TensorFlow for CPU\n"
     ]
    },
    {
     "name": "stdout",
     "output_type": "stream",
     "text": [
      "50 QQQ t-dqn-AAPL 2089.2887640000035\n"
     ]
    },
    {
     "name": "stderr",
     "output_type": "stream",
     "text": [
      "2022-12-07 11:50:54 victors-mbp-16.lan root[22603] DEBUG switching to TensorFlow for CPU\n"
     ]
    },
    {
     "name": "stdout",
     "output_type": "stream",
     "text": [
      "10 QQQ t-dqn-QQQ -6602.084104000012\n"
     ]
    },
    {
     "name": "stderr",
     "output_type": "stream",
     "text": [
      "2022-12-07 11:51:10 victors-mbp-16.lan root[22603] DEBUG switching to TensorFlow for CPU\n"
     ]
    },
    {
     "name": "stdout",
     "output_type": "stream",
     "text": [
      "20 QQQ t-dqn-QQQ -10207.534014999988\n"
     ]
    },
    {
     "name": "stderr",
     "output_type": "stream",
     "text": [
      "2022-12-07 11:51:26 victors-mbp-16.lan root[22603] DEBUG switching to TensorFlow for CPU\n"
     ]
    },
    {
     "name": "stdout",
     "output_type": "stream",
     "text": [
      "30 QQQ t-dqn-QQQ -14084.06378900001\n"
     ]
    },
    {
     "name": "stderr",
     "output_type": "stream",
     "text": [
      "2022-12-07 11:51:42 victors-mbp-16.lan root[22603] DEBUG switching to TensorFlow for CPU\n"
     ]
    },
    {
     "name": "stdout",
     "output_type": "stream",
     "text": [
      "40 QQQ t-dqn-QQQ 802.8413460000033\n"
     ]
    },
    {
     "name": "stderr",
     "output_type": "stream",
     "text": [
      "2022-12-07 11:51:59 victors-mbp-16.lan root[22603] DEBUG switching to TensorFlow for CPU\n"
     ]
    },
    {
     "name": "stdout",
     "output_type": "stream",
     "text": [
      "50 QQQ t-dqn-QQQ -203.32366099999973\n"
     ]
    },
    {
     "name": "stderr",
     "output_type": "stream",
     "text": [
      "2022-12-07 11:52:16 victors-mbp-16.lan root[22603] DEBUG switching to TensorFlow for CPU\n"
     ]
    },
    {
     "name": "stdout",
     "output_type": "stream",
     "text": [
      "10 TSLA dqn-TSLA 0\n"
     ]
    },
    {
     "name": "stderr",
     "output_type": "stream",
     "text": [
      "2022-12-07 11:52:33 victors-mbp-16.lan root[22603] DEBUG switching to TensorFlow for CPU\n"
     ]
    },
    {
     "name": "stdout",
     "output_type": "stream",
     "text": [
      "20 TSLA dqn-TSLA -492.9861139999996\n"
     ]
    },
    {
     "name": "stderr",
     "output_type": "stream",
     "text": [
      "2022-12-07 11:52:52 victors-mbp-16.lan root[22603] DEBUG switching to TensorFlow for CPU\n"
     ]
    },
    {
     "name": "stdout",
     "output_type": "stream",
     "text": [
      "30 TSLA dqn-TSLA -407.6066880000003\n"
     ]
    },
    {
     "name": "stderr",
     "output_type": "stream",
     "text": [
      "2022-12-07 11:53:10 victors-mbp-16.lan root[22603] DEBUG switching to TensorFlow for CPU\n"
     ]
    },
    {
     "name": "stdout",
     "output_type": "stream",
     "text": [
      "40 TSLA dqn-TSLA 0\n"
     ]
    },
    {
     "name": "stderr",
     "output_type": "stream",
     "text": [
      "2022-12-07 11:53:29 victors-mbp-16.lan root[22603] DEBUG switching to TensorFlow for CPU\n"
     ]
    },
    {
     "name": "stdout",
     "output_type": "stream",
     "text": [
      "50 TSLA dqn-TSLA 0\n"
     ]
    },
    {
     "name": "stderr",
     "output_type": "stream",
     "text": [
      "2022-12-07 11:53:48 victors-mbp-16.lan root[22603] DEBUG switching to TensorFlow for CPU\n"
     ]
    },
    {
     "name": "stdout",
     "output_type": "stream",
     "text": [
      "10 TSLA t-dqn-TSLA -5510.3764599999995\n"
     ]
    },
    {
     "name": "stderr",
     "output_type": "stream",
     "text": [
      "2022-12-07 11:54:07 victors-mbp-16.lan root[22603] DEBUG switching to TensorFlow for CPU\n"
     ]
    },
    {
     "name": "stdout",
     "output_type": "stream",
     "text": [
      "20 TSLA t-dqn-TSLA -1315.9666550000002\n"
     ]
    },
    {
     "name": "stderr",
     "output_type": "stream",
     "text": [
      "2022-12-07 11:54:27 victors-mbp-16.lan root[22603] DEBUG switching to TensorFlow for CPU\n"
     ]
    },
    {
     "name": "stdout",
     "output_type": "stream",
     "text": [
      "30 TSLA t-dqn-TSLA 83.97006600000003\n"
     ]
    },
    {
     "name": "stderr",
     "output_type": "stream",
     "text": [
      "2022-12-07 11:54:48 victors-mbp-16.lan root[22603] DEBUG switching to TensorFlow for CPU\n"
     ]
    },
    {
     "name": "stdout",
     "output_type": "stream",
     "text": [
      "40 TSLA t-dqn-TSLA 0\n"
     ]
    },
    {
     "name": "stderr",
     "output_type": "stream",
     "text": [
      "2022-12-07 11:55:09 victors-mbp-16.lan root[22603] DEBUG switching to TensorFlow for CPU\n"
     ]
    },
    {
     "name": "stdout",
     "output_type": "stream",
     "text": [
      "50 TSLA t-dqn-TSLA 0\n"
     ]
    },
    {
     "name": "stderr",
     "output_type": "stream",
     "text": [
      "2022-12-07 11:55:31 victors-mbp-16.lan root[22603] DEBUG switching to TensorFlow for CPU\n"
     ]
    },
    {
     "name": "stdout",
     "output_type": "stream",
     "text": [
      "10 TSLA double-dqn-TSLA -336.7500529999985\n"
     ]
    },
    {
     "name": "stderr",
     "output_type": "stream",
     "text": [
      "2022-12-07 11:55:53 victors-mbp-16.lan root[22603] DEBUG switching to TensorFlow for CPU\n"
     ]
    },
    {
     "name": "stdout",
     "output_type": "stream",
     "text": [
      "20 TSLA double-dqn-TSLA 0\n"
     ]
    },
    {
     "name": "stderr",
     "output_type": "stream",
     "text": [
      "2022-12-07 11:56:15 victors-mbp-16.lan root[22603] DEBUG switching to TensorFlow for CPU\n"
     ]
    },
    {
     "name": "stdout",
     "output_type": "stream",
     "text": [
      "30 TSLA double-dqn-TSLA 0\n"
     ]
    },
    {
     "name": "stderr",
     "output_type": "stream",
     "text": [
      "2022-12-07 11:56:37 victors-mbp-16.lan root[22603] DEBUG switching to TensorFlow for CPU\n"
     ]
    },
    {
     "name": "stdout",
     "output_type": "stream",
     "text": [
      "40 TSLA double-dqn-TSLA 0\n"
     ]
    },
    {
     "name": "stderr",
     "output_type": "stream",
     "text": [
      "2022-12-07 11:57:00 victors-mbp-16.lan root[22603] DEBUG switching to TensorFlow for CPU\n"
     ]
    },
    {
     "name": "stdout",
     "output_type": "stream",
     "text": [
      "50 TSLA double-dqn-TSLA 0\n"
     ]
    },
    {
     "name": "stderr",
     "output_type": "stream",
     "text": [
      "2022-12-07 11:57:23 victors-mbp-16.lan root[22603] DEBUG switching to TensorFlow for CPU\n"
     ]
    },
    {
     "name": "stdout",
     "output_type": "stream",
     "text": [
      "10 TSLA t-dqn-AAPL -1110.995992999997\n"
     ]
    },
    {
     "name": "stderr",
     "output_type": "stream",
     "text": [
      "2022-12-07 11:57:47 victors-mbp-16.lan root[22603] DEBUG switching to TensorFlow for CPU\n"
     ]
    },
    {
     "name": "stdout",
     "output_type": "stream",
     "text": [
      "20 TSLA t-dqn-AAPL 243.88403900000364\n"
     ]
    },
    {
     "name": "stderr",
     "output_type": "stream",
     "text": [
      "2022-12-07 11:58:12 victors-mbp-16.lan root[22603] DEBUG switching to TensorFlow for CPU\n"
     ]
    },
    {
     "name": "stdout",
     "output_type": "stream",
     "text": [
      "30 TSLA t-dqn-AAPL -2383.8629099999966\n"
     ]
    },
    {
     "name": "stderr",
     "output_type": "stream",
     "text": [
      "2022-12-07 11:58:37 victors-mbp-16.lan root[22603] DEBUG switching to TensorFlow for CPU\n"
     ]
    },
    {
     "name": "stdout",
     "output_type": "stream",
     "text": [
      "40 TSLA t-dqn-AAPL -2953.7419340000038\n"
     ]
    },
    {
     "name": "stderr",
     "output_type": "stream",
     "text": [
      "2022-12-07 11:59:03 victors-mbp-16.lan root[22603] DEBUG switching to TensorFlow for CPU\n"
     ]
    },
    {
     "name": "stdout",
     "output_type": "stream",
     "text": [
      "50 TSLA t-dqn-AAPL 373.1366349999993\n"
     ]
    },
    {
     "name": "stderr",
     "output_type": "stream",
     "text": [
      "2022-12-07 11:59:29 victors-mbp-16.lan root[22603] DEBUG switching to TensorFlow for CPU\n"
     ]
    },
    {
     "name": "stdout",
     "output_type": "stream",
     "text": [
      "10 TSLA t-dqn-QQQ -7492.24951700001\n"
     ]
    },
    {
     "name": "stderr",
     "output_type": "stream",
     "text": [
      "2022-12-07 11:59:56 victors-mbp-16.lan root[22603] DEBUG switching to TensorFlow for CPU\n"
     ]
    },
    {
     "name": "stdout",
     "output_type": "stream",
     "text": [
      "20 TSLA t-dqn-QQQ -5493.248586999999\n"
     ]
    },
    {
     "name": "stderr",
     "output_type": "stream",
     "text": [
      "2022-12-07 12:00:24 victors-mbp-16.lan root[22603] DEBUG switching to TensorFlow for CPU\n"
     ]
    },
    {
     "name": "stdout",
     "output_type": "stream",
     "text": [
      "30 TSLA t-dqn-QQQ -4701.171606000007\n"
     ]
    },
    {
     "name": "stderr",
     "output_type": "stream",
     "text": [
      "2022-12-07 12:00:51 victors-mbp-16.lan root[22603] DEBUG switching to TensorFlow for CPU\n"
     ]
    },
    {
     "name": "stdout",
     "output_type": "stream",
     "text": [
      "40 TSLA t-dqn-QQQ -410.903018\n"
     ]
    },
    {
     "name": "stderr",
     "output_type": "stream",
     "text": [
      "2022-12-07 12:01:18 victors-mbp-16.lan root[22603] DEBUG switching to TensorFlow for CPU\n"
     ]
    },
    {
     "name": "stdout",
     "output_type": "stream",
     "text": [
      "50 TSLA t-dqn-QQQ -363.70002099999977\n"
     ]
    },
    {
     "name": "stderr",
     "output_type": "stream",
     "text": [
      "2022-12-07 12:01:47 victors-mbp-16.lan root[22603] DEBUG switching to TensorFlow for CPU\n"
     ]
    },
    {
     "name": "stdout",
     "output_type": "stream",
     "text": [
      "10 AAPL dqn-TSLA 0\n"
     ]
    },
    {
     "name": "stderr",
     "output_type": "stream",
     "text": [
      "2022-12-07 12:02:16 victors-mbp-16.lan root[22603] DEBUG switching to TensorFlow for CPU\n"
     ]
    },
    {
     "name": "stdout",
     "output_type": "stream",
     "text": [
      "20 AAPL dqn-TSLA -92.99189299999904\n"
     ]
    },
    {
     "name": "stderr",
     "output_type": "stream",
     "text": [
      "2022-12-07 12:02:46 victors-mbp-16.lan root[22603] DEBUG switching to TensorFlow for CPU\n"
     ]
    },
    {
     "name": "stdout",
     "output_type": "stream",
     "text": [
      "30 AAPL dqn-TSLA -77.68905199999989\n"
     ]
    },
    {
     "name": "stderr",
     "output_type": "stream",
     "text": [
      "2022-12-07 12:03:16 victors-mbp-16.lan root[22603] DEBUG switching to TensorFlow for CPU\n"
     ]
    },
    {
     "name": "stdout",
     "output_type": "stream",
     "text": [
      "40 AAPL dqn-TSLA 0\n"
     ]
    },
    {
     "name": "stderr",
     "output_type": "stream",
     "text": [
      "2022-12-07 12:03:46 victors-mbp-16.lan root[22603] DEBUG switching to TensorFlow for CPU\n"
     ]
    },
    {
     "name": "stdout",
     "output_type": "stream",
     "text": [
      "50 AAPL dqn-TSLA 0\n"
     ]
    },
    {
     "name": "stderr",
     "output_type": "stream",
     "text": [
      "2022-12-07 12:04:17 victors-mbp-16.lan root[22603] DEBUG switching to TensorFlow for CPU\n"
     ]
    },
    {
     "name": "stdout",
     "output_type": "stream",
     "text": [
      "10 AAPL t-dqn-TSLA -1435.5902230000006\n"
     ]
    },
    {
     "name": "stderr",
     "output_type": "stream",
     "text": [
      "2022-12-07 12:04:48 victors-mbp-16.lan root[22603] DEBUG switching to TensorFlow for CPU\n"
     ]
    },
    {
     "name": "stdout",
     "output_type": "stream",
     "text": [
      "20 AAPL t-dqn-TSLA -130.985973\n"
     ]
    },
    {
     "name": "stderr",
     "output_type": "stream",
     "text": [
      "2022-12-07 12:05:20 victors-mbp-16.lan root[22603] DEBUG switching to TensorFlow for CPU\n"
     ]
    },
    {
     "name": "stdout",
     "output_type": "stream",
     "text": [
      "30 AAPL t-dqn-TSLA -141.72960599999996\n"
     ]
    },
    {
     "name": "stderr",
     "output_type": "stream",
     "text": [
      "2022-12-07 12:05:52 victors-mbp-16.lan root[22603] DEBUG switching to TensorFlow for CPU\n"
     ]
    },
    {
     "name": "stdout",
     "output_type": "stream",
     "text": [
      "40 AAPL t-dqn-TSLA 0\n"
     ]
    },
    {
     "name": "stderr",
     "output_type": "stream",
     "text": [
      "2022-12-07 12:06:25 victors-mbp-16.lan root[22603] DEBUG switching to TensorFlow for CPU\n"
     ]
    },
    {
     "name": "stdout",
     "output_type": "stream",
     "text": [
      "50 AAPL t-dqn-TSLA 0\n"
     ]
    },
    {
     "name": "stderr",
     "output_type": "stream",
     "text": [
      "2022-12-07 12:06:58 victors-mbp-16.lan root[22603] DEBUG switching to TensorFlow for CPU\n"
     ]
    },
    {
     "name": "stdout",
     "output_type": "stream",
     "text": [
      "10 AAPL double-dqn-TSLA 986.4808059999982\n"
     ]
    },
    {
     "name": "stderr",
     "output_type": "stream",
     "text": [
      "2022-12-07 12:07:32 victors-mbp-16.lan root[22603] DEBUG switching to TensorFlow for CPU\n"
     ]
    },
    {
     "name": "stdout",
     "output_type": "stream",
     "text": [
      "20 AAPL double-dqn-TSLA 0\n"
     ]
    },
    {
     "name": "stderr",
     "output_type": "stream",
     "text": [
      "2022-12-07 12:08:06 victors-mbp-16.lan root[22603] DEBUG switching to TensorFlow for CPU\n"
     ]
    },
    {
     "name": "stdout",
     "output_type": "stream",
     "text": [
      "30 AAPL double-dqn-TSLA 0\n"
     ]
    },
    {
     "name": "stderr",
     "output_type": "stream",
     "text": [
      "2022-12-07 12:08:40 victors-mbp-16.lan root[22603] DEBUG switching to TensorFlow for CPU\n"
     ]
    },
    {
     "name": "stdout",
     "output_type": "stream",
     "text": [
      "40 AAPL double-dqn-TSLA 0\n"
     ]
    },
    {
     "name": "stderr",
     "output_type": "stream",
     "text": [
      "2022-12-07 12:09:16 victors-mbp-16.lan root[22603] DEBUG switching to TensorFlow for CPU\n"
     ]
    },
    {
     "name": "stdout",
     "output_type": "stream",
     "text": [
      "50 AAPL double-dqn-TSLA 0\n"
     ]
    },
    {
     "name": "stderr",
     "output_type": "stream",
     "text": [
      "2022-12-07 12:09:52 victors-mbp-16.lan root[22603] DEBUG switching to TensorFlow for CPU\n"
     ]
    },
    {
     "name": "stdout",
     "output_type": "stream",
     "text": [
      "10 AAPL t-dqn-AAPL 77.11716999999928\n"
     ]
    },
    {
     "name": "stderr",
     "output_type": "stream",
     "text": [
      "2022-12-07 12:10:29 victors-mbp-16.lan root[22603] DEBUG switching to TensorFlow for CPU\n"
     ]
    },
    {
     "name": "stdout",
     "output_type": "stream",
     "text": [
      "20 AAPL t-dqn-AAPL -2128.687036000001\n"
     ]
    },
    {
     "name": "stderr",
     "output_type": "stream",
     "text": [
      "2022-12-07 12:11:06 victors-mbp-16.lan root[22603] DEBUG switching to TensorFlow for CPU\n"
     ]
    },
    {
     "name": "stdout",
     "output_type": "stream",
     "text": [
      "30 AAPL t-dqn-AAPL -1506.4735659999994\n"
     ]
    },
    {
     "name": "stderr",
     "output_type": "stream",
     "text": [
      "2022-12-07 12:11:43 victors-mbp-16.lan root[22603] DEBUG switching to TensorFlow for CPU\n"
     ]
    },
    {
     "name": "stdout",
     "output_type": "stream",
     "text": [
      "40 AAPL t-dqn-AAPL -4109.571187999999\n"
     ]
    },
    {
     "name": "stderr",
     "output_type": "stream",
     "text": [
      "2022-12-07 12:12:21 victors-mbp-16.lan root[22603] DEBUG switching to TensorFlow for CPU\n"
     ]
    },
    {
     "name": "stdout",
     "output_type": "stream",
     "text": [
      "50 AAPL t-dqn-AAPL 1132.2992560000007\n"
     ]
    },
    {
     "name": "stderr",
     "output_type": "stream",
     "text": [
      "2022-12-07 12:13:01 victors-mbp-16.lan root[22603] DEBUG switching to TensorFlow for CPU\n"
     ]
    },
    {
     "name": "stdout",
     "output_type": "stream",
     "text": [
      "10 AAPL t-dqn-QQQ -393.341292000002\n"
     ]
    },
    {
     "name": "stderr",
     "output_type": "stream",
     "text": [
      "2022-12-07 12:13:41 victors-mbp-16.lan root[22603] DEBUG switching to TensorFlow for CPU\n"
     ]
    },
    {
     "name": "stdout",
     "output_type": "stream",
     "text": [
      "20 AAPL t-dqn-QQQ 223.63701199999863\n"
     ]
    },
    {
     "name": "stderr",
     "output_type": "stream",
     "text": [
      "2022-12-07 12:14:23 victors-mbp-16.lan root[22603] DEBUG switching to TensorFlow for CPU\n"
     ]
    },
    {
     "name": "stdout",
     "output_type": "stream",
     "text": [
      "30 AAPL t-dqn-QQQ -2354.894584999999\n"
     ]
    },
    {
     "name": "stderr",
     "output_type": "stream",
     "text": [
      "2022-12-07 12:15:05 victors-mbp-16.lan root[22603] DEBUG switching to TensorFlow for CPU\n"
     ]
    },
    {
     "name": "stdout",
     "output_type": "stream",
     "text": [
      "40 AAPL t-dqn-QQQ 51.48926299999988\n"
     ]
    },
    {
     "name": "stderr",
     "output_type": "stream",
     "text": [
      "2022-12-07 12:15:47 victors-mbp-16.lan root[22603] DEBUG switching to TensorFlow for CPU\n"
     ]
    },
    {
     "name": "stdout",
     "output_type": "stream",
     "text": [
      "50 AAPL t-dqn-QQQ 117.35112299999994\n"
     ]
    }
   ],
   "source": [
    "d = {}\n",
    "for dataset in [\"QQQ\", \"TSLA\", \"AAPL\"]:\n",
    "    for model in [\"dqn-TSLA\", \"t-dqn-TSLA\", \"double-dqn-TSLA\", \"t-dqn-AAPL\", \"t-dqn-QQQ\"]:\n",
    "        for i in range(10, 60, 10):\n",
    "            coloredlogs.install(level='CRITICAL')\n",
    "            ret = get_return(model + \"_\" + str(i), dataset)\n",
    "            d[(model, i, dataset)] = ret\n",
    "            print(i, dataset, model, ret)"
   ]
  },
  {
   "cell_type": "code",
   "execution_count": 59,
   "metadata": {},
   "outputs": [
    {
     "name": "stderr",
     "output_type": "stream",
     "text": [
      "2022-12-07 17:20:01 Victors-MacBook-Pro-16.local root[22603] DEBUG switching to TensorFlow for CPU\n"
     ]
    }
   ],
   "source": [
    "ret, history = get_return(\"t-dqn-AAPL\" + \"_\" + \"50\", \"AAPL\")"
   ]
  },
  {
   "cell_type": "code",
   "execution_count": 98,
   "metadata": {},
   "outputs": [
    {
     "name": "stderr",
     "output_type": "stream",
     "text": [
      "2022-12-07 17:38:54 Victors-MacBook-Pro-16.local root[22603] DEBUG switching to TensorFlow for CPU\n",
      "2022-12-07 17:39:36 Victors-MacBook-Pro-16.local root[22603] DEBUG switching to TensorFlow for CPU\n",
      "2022-12-07 17:39:41 Victors-MacBook-Pro-16.local root[22603] DEBUG switching to TensorFlow for CPU\n"
     ]
    }
   ],
   "source": [
    "\"\"\"\n",
    "AAPL:\n",
    "1. 30 AAPL t-dqn-TSLA -141.72960599999996\n",
    "2. 20 AAPL t-dqn-QQQ 223.63701199999863\n",
    "3. 50 AAPL t-dqn-AAPL 1132.2992560000007\n",
    "\"\"\"\n",
    "_, history_2 = get_return(\"t-dqn-QQQ\" + \"_\" + \"20\", \"AAPL\")\n",
    "_, history_3 = get_return(\"t-dqn-TSLA\" + \"_\" + \"30\", \"AAPL\")\n",
    "_, history_4 = get_return(\"random\", \"AAPL\")"
   ]
  },
  {
   "cell_type": "code",
   "execution_count": 61,
   "metadata": {},
   "outputs": [
    {
     "data": {
      "text/plain": [
       "[(180.959747, 'HOLD'),\n",
       " (178.663071, 'HOLD'),\n",
       " (173.91066, 'HOLD'),\n",
       " (171.007523, 'HOLD'),\n",
       " (171.17652900000002, 'BUY', 7),\n",
       " (171.196426, 'BUY', 9),\n",
       " (174.069748, 'SELL', 5),\n",
       " (174.51713600000002, 'SELL', 3),\n",
       " (171.196426, 'SELL', 5),\n",
       " (172.07135, 'SELL', 3),\n",
       " (168.820206, 'BUY', 9),\n",
       " (165.27079799999998, 'SELL', 5),\n",
       " (163.56073, 'SELL', 4),\n",
       " (161.472855, 'BUY', 9),\n",
       " (160.687393, 'SELL', 5),\n",
       " (158.858017, 'BUY', 9),\n",
       " (158.76853899999998, 'BUY', 9),\n",
       " (158.301254, 'BUY', 9),\n",
       " (169.347137, 'BUY', 9),\n",
       " (173.771454, 'BUY', 9),\n",
       " (173.602463, 'BUY', 9),\n",
       " (174.825333, 'SELL', 5),\n",
       " (171.902298, 'SELL', 1),\n",
       " (171.613632, 'SELL', 5),\n",
       " (170.88691699999998, 'SELL', 5),\n",
       " (174.042633, 'SELL', 5),\n",
       " (175.486099, 'SELL', 5),\n",
       " (171.344833, 'SELL', 5),\n",
       " (167.88050800000002, 'SELL', 5),\n",
       " (168.11944599999998, 'SELL', 5),\n",
       " (172.01181, 'BUY', 7),\n",
       " (171.772903, 'SELL', 5),\n",
       " (168.11944599999998, 'SELL', 5),\n",
       " (166.546555, 'SELL', 5),\n",
       " (163.57998700000002, 'SELL', 4),\n",
       " (159.349121, 'BUY', 9),\n",
       " (162.007095, 'BUY', 9),\n",
       " (164.10759, 'SELL', 5),\n",
       " (164.376358, 'SELL', 5),\n",
       " (162.465012, 'SELL', 5),\n",
       " (165.809875, 'SELL', 5),\n",
       " (165.481369, 'BUY', 9),\n",
       " (162.435135, 'SELL', 5),\n",
       " (158.582581, 'SELL', 5),\n",
       " (156.730942, 'HOLD'),\n",
       " (162.216141, 'HOLD'),\n",
       " (157.806107, 'BUY', 9),\n",
       " (154.03315700000002, 'BUY', 9),\n",
       " (149.94165, 'BUY', 9),\n",
       " (154.391525, 'BUY', 9),\n",
       " (158.871277, 'BUY', 9),\n",
       " (159.896622, 'SELL', 3),\n",
       " (163.241501, 'SELL', 5),\n",
       " (164.635193, 'SELL', 5),\n",
       " (168.059708, 'SELL', 5),\n",
       " (169.443451, 'SELL', 5),\n",
       " (173.286057, 'SELL', 5),\n",
       " (173.93313600000002, 'SELL', 5),\n",
       " (174.809174, 'SELL', 5),\n",
       " (178.154053, 'SELL', 5),\n",
       " (176.969406, 'HOLD'),\n",
       " (173.823624, 'HOLD'),\n",
       " (173.524979, 'SELL', 1),\n",
       " (177.636383, 'HOLD'),\n",
       " (174.27160600000002, 'HOLD'),\n",
       " (171.056137, 'HOLD'),\n",
       " (171.364746, 'HOLD'),\n",
       " (169.323975, 'HOLD'),\n",
       " (165.003525, 'HOLD'),\n",
       " (166.904922, 'HOLD'),\n",
       " (169.632584, 'HOLD'),\n",
       " (164.545593, 'HOLD'),\n",
       " (164.326599, 'HOLD'),\n",
       " (166.646088, 'HOLD'),\n",
       " (166.476868, 'SELL', 3),\n",
       " (165.670517, 'HOLD'),\n",
       " (161.06135600000002, 'HOLD'),\n",
       " (162.146454, 'HOLD'),\n",
       " (156.093842, 'HOLD'),\n",
       " (155.86488300000002, 'HOLD'),\n",
       " (162.90303, 'HOLD'),\n",
       " (156.939987, 'BUY', 9),\n",
       " (157.248627, 'SELL', 5),\n",
       " (158.76178000000002, 'HOLD'),\n",
       " (165.272324, 'HOLD'),\n",
       " (156.06398000000002, 'BUY', 9),\n",
       " (156.801727, 'BUY', 9),\n",
       " (151.59759499999998, 'SELL', 1),\n",
       " (154.040131, 'SELL', 5),\n",
       " (146.054504, 'SELL', 5),\n",
       " (142.12648000000002, 'BUY', 9),\n",
       " (146.662643, 'SELL', 5),\n",
       " (145.09741200000002, 'SELL', 5),\n",
       " (148.786179, 'BUY', 9),\n",
       " (140.391785, 'BUY', 9),\n",
       " (136.932343, 'BUY', 9),\n",
       " (137.1716, 'SELL', 5),\n",
       " (142.67481999999998, 'SELL', 5),\n",
       " (139.93318200000002, 'BUY', 9),\n",
       " (140.092697, 'SELL', 5),\n",
       " (143.342773, 'SELL', 5),\n",
       " (149.184952, 'SELL', 5),\n",
       " (148.38738999999998, 'SELL', 5),\n",
       " (148.257797, 'SELL', 5),\n",
       " (150.75018300000002, 'SELL', 5),\n",
       " (144.937912, 'SELL', 5),\n",
       " (145.695602, 'HOLD'),\n",
       " (148.257797, 'HOLD'),\n",
       " (147.51007099999998, 'HOLD'),\n",
       " (142.206253, 'SELL', 1),\n",
       " (136.713013, 'HOLD'),\n",
       " (131.478958, 'HOLD'),\n",
       " (132.356277, 'HOLD'),\n",
       " (135.018158, 'HOLD'),\n",
       " (129.66449, 'HOLD'),\n",
       " (131.159927, 'HOLD'),\n",
       " (135.456818, 'HOLD'),\n",
       " (134.938416, 'BUY', 9),\n",
       " (137.849533, 'SELL', 4),\n",
       " (141.229233, 'SELL', 5),\n",
       " (141.229233, 'HOLD'),\n",
       " (137.022064, 'HOLD'),\n",
       " (138.80661, 'HOLD'),\n",
       " (136.304245, 'HOLD'),\n",
       " (138.507507, 'HOLD'),\n",
       " (141.129532, 'HOLD'),\n",
       " (142.48538200000002, 'HOLD'),\n",
       " (145.904968, 'HOLD'),\n",
       " (146.59285, 'HOLD'),\n",
       " (144.429459, 'HOLD'),\n",
       " (145.416443, 'HOLD'),\n",
       " (145.047577, 'HOLD'),\n",
       " (148.01852399999999, 'HOLD'),\n",
       " (149.713333, 'HOLD'),\n",
       " (146.62278700000002, 'HOLD'),\n",
       " (150.540817, 'HOLD'),\n",
       " (152.574615, 'HOLD'),\n",
       " (154.877594, 'HOLD'),\n",
       " (153.621414, 'HOLD'),\n",
       " (152.484894, 'HOLD'),\n",
       " (151.138992, 'HOLD'),\n",
       " (156.313202, 'HOLD'),\n",
       " (156.871521, 'BUY', 7),\n",
       " (162.01580800000002, 'SELL', 5),\n",
       " (161.018845, 'HOLD'),\n",
       " (159.52340700000002, 'HOLD'),\n",
       " (165.62481699999998, 'HOLD'),\n",
       " (165.305786, 'HOLD'),\n",
       " (165.07617199999999, 'HOLD'),\n",
       " (164.596954, 'SELL', 1),\n",
       " (164.646866, 'HOLD'),\n",
       " (168.959732, 'HOLD'),\n",
       " (168.21096799999998, 'HOLD'),\n",
       " (171.814987, 'HOLD'),\n",
       " (172.903183, 'HOLD'),\n",
       " (172.743439, 'HOLD'),\n",
       " (174.260925, 'HOLD'),\n",
       " (173.86158799999998, 'HOLD'),\n",
       " (171.235947, 'BUY', 7),\n",
       " (167.292496, 'SELL', 5),\n",
       " (166.953049, 'HOLD'),\n",
       " (167.252548, 'HOLD'),\n",
       " (169.748413, 'HOLD'),\n",
       " (163.34901399999998, 'HOLD'),\n",
       " (161.11274699999998, 'HOLD'),\n",
       " (158.646835, 'BUY', 9),\n",
       " (156.959625, 'BUY', 9),\n",
       " (157.69841, 'BUY', 9),\n",
       " (155.55195600000002, 'BUY', 9),\n",
       " (154.274078, 'BUY', 9),\n",
       " (155.701721, 'SELL', 5),\n",
       " (154.204208, 'BUY', 9),\n",
       " (157.109375, 'SELL', 6),\n",
       " (163.159332, 'SELL', 5),\n",
       " (153.58522, 'SELL', 5),\n",
       " (155.05278, 'SELL', 5),\n",
       " (152.11764499999998, 'SELL', 5),\n",
       " (150.450424, 'SELL', 5),\n",
       " (154.224152, 'SELL', 5),\n",
       " (156.640152, 'SELL', 5),\n",
       " (153.465424, 'SELL', 5),\n",
       " (152.487045, 'SELL', 5),\n",
       " (150.18086200000002, 'HOLD'),\n",
       " (150.520309, 'HOLD'),\n",
       " (151.508667, 'HOLD'),\n",
       " (149.59184299999998, 'HOLD'),\n",
       " (142.244034, 'BUY', 9),\n",
       " (137.971115, 'SELL', 4),\n",
       " (142.214081, 'BUY', 9),\n",
       " (145.858047, 'SELL', 5),\n",
       " (146.157532, 'SELL', 3),\n",
       " (145.189148, 'SELL', 2),\n",
       " (139.857986, 'BUY', 9),\n",
       " (140.18743899999998, 'BUY', 9),\n",
       " (138.749832, 'BUY', 9),\n",
       " (138.11088600000002, 'SELL', 5),\n",
       " (142.753204, 'SELL', 5),\n",
       " (138.150833, 'SELL', 5),\n",
       " (142.174164, 'SELL', 5),\n",
       " (143.511932, 'SELL', 5),\n",
       " (143.62175, 'SELL', 3),\n",
       " (143.152527, 'SELL', 1),\n",
       " (147.026108, 'SELL', 3),\n",
       " (149.202484, 'HOLD'),\n",
       " (152.08770800000002, 'HOLD'),\n",
       " (149.102661, 'HOLD'),\n",
       " (144.560196, 'HOLD'),\n",
       " (155.482086, 'HOLD'),\n",
       " (153.086044, 'HOLD'),\n",
       " (150.400497, 'HOLD'),\n",
       " (144.78981000000002, 'HOLD'),\n",
       " (138.650009, 'HOLD'),\n",
       " (138.380005, 'HOLD'),\n",
       " (138.919998, 'HOLD'),\n",
       " (139.5, 'BUY', 9),\n",
       " (134.869995, 'BUY', 9),\n",
       " (146.869995, 'SELL', 4),\n",
       " (149.699997, 'SELL', 5),\n",
       " (148.279999, 'SELL', 3),\n",
       " (150.03999299999998, 'SELL', 5),\n",
       " (148.78999299999998, 'SELL', 1),\n",
       " (150.720001, 'HOLD'),\n",
       " (151.28999299999998, 'HOLD'),\n",
       " (148.009995, 'HOLD'),\n",
       " (150.179993, 'HOLD'),\n",
       " (151.070007, 'HOLD'),\n",
       " (148.110001, 'HOLD'),\n",
       " (144.220001, 'HOLD'),\n",
       " (141.169998, 'HOLD'),\n",
       " (148.029999, 'BUY', 9),\n",
       " (148.309998, 'BUY', 9)]"
      ]
     },
     "execution_count": 61,
     "metadata": {},
     "output_type": "execute_result"
    }
   ],
   "source": [
    "history"
   ]
  },
  {
   "cell_type": "code",
   "execution_count": 101,
   "metadata": {},
   "outputs": [],
   "source": [
    "def visualize(df, history, history_2, history_3, history_4, title=\"trading session\"):\n",
    "    # add history to dataframe\n",
    "    position = [history[0][0]] + [x[0] for x in history]\n",
    "    actions = ['HOLD'] + [x[1] for x in history]\n",
    "    actions_2 = ['HOLD'] + [x[1] for x in history_2]\n",
    "    actions_3 = ['HOLD'] + [x[1] for x in history_3]\n",
    "    actions_4 = ['HOLD'] + [x[1] for x in history_4]\n",
    "    shares = [0]\n",
    "    for x in history:\n",
    "        if len(x) == 2:\n",
    "            shares.append('0')\n",
    "        else:\n",
    "            shares.append(str(x[2]))\n",
    "    df['position'] = position\n",
    "    df['action'] = actions\n",
    "    df['action_2'] = actions_2\n",
    "    df['action_3'] = actions_3\n",
    "    df['action_4'] = actions_4\n",
    "    df['shares'] = shares\n",
    "    # print(df)\n",
    "    \n",
    "    # specify y-axis scale for stock prices\n",
    "    scale = alt.Scale(domain=(min(min(df['actual']), min(df['position'])) - 50, max(max(df['actual']), max(df['position'])) + 50), clamp=True)\n",
    "    \n",
    "    # plot a line chart for stock positions\n",
    "    actual = alt.Chart(df).mark_line(\n",
    "        color='green',\n",
    "        opacity=0.5\n",
    "    ).encode(\n",
    "        x='date:T',\n",
    "        y=alt.Y('position', axis=alt.Axis(format='$.2f', title='Price'), scale=scale)\n",
    "    ).interactive(\n",
    "        bind_y=False\n",
    "    )\n",
    "    \n",
    "    # plot the BUY and SELL actions as points\n",
    "    points = alt.Chart(df).transform_filter(\n",
    "        alt.datum.action != 'HOLD'\n",
    "    ).mark_point(\n",
    "        filled=True\n",
    "    ).encode(\n",
    "        x=alt.X('date:T', axis=alt.Axis(title='Date')),\n",
    "        y=alt.Y('position', axis=alt.Axis(format='$.2f', title='Price'), scale=scale),\n",
    "        color='action'\n",
    "    ).interactive(bind_y=False)\n",
    "\n",
    "    points_2 = alt.Chart(df).transform_filter(\n",
    "        alt.datum.action != 'HOLD'\n",
    "    ).mark_point(\n",
    "        filled=True\n",
    "    ).encode(\n",
    "        x=alt.X('date:T', axis=alt.Axis(title='Date')),\n",
    "        y=alt.Y('position', axis=alt.Axis(format='$.2f', title='Price'), scale=scale),\n",
    "        color='action_2'\n",
    "    ).interactive(bind_y=False)\n",
    "\n",
    "    # texts = alt.Chart(df).transform_filter(\n",
    "    #     alt.datum.action != 'HOLD'\n",
    "    # ).mark_text(\n",
    "    #     # align='left',\n",
    "    #     # baseline='middle',\n",
    "    #     dy=-10\n",
    "    # ).encode(\n",
    "    #     x=alt.X('date:T', axis=alt.Axis(title='Date')),\n",
    "    #     y=alt.Y('position', axis=alt.Axis(format='$.2f', title='Price'), scale=scale),\n",
    "    #     text='shares'\n",
    "    # ).interactive(bind_y=False)\n",
    "\n",
    "    # merge the two charts\n",
    "    chart = alt.layer(actual, points, points_2, title=title).properties(height=300, width=1000)\n",
    "    \n",
    "    return chart"
   ]
  },
  {
   "cell_type": "code",
   "execution_count": 102,
   "metadata": {},
   "outputs": [
    {
     "data": {
      "text/html": [
       "\n",
       "<div id=\"altair-viz-19\"></div>\n",
       "<script type=\"text/javascript\">\n",
       "  (function(spec, embedOpt){\n",
       "    const outputDiv = document.getElementById(\"altair-viz-19\");\n",
       "    const paths = {\n",
       "      \"vega\": \"https://cdn.jsdelivr.net/npm//vega@5?noext\",\n",
       "      \"vega-lib\": \"https://cdn.jsdelivr.net/npm//vega-lib?noext\",\n",
       "      \"vega-lite\": \"https://cdn.jsdelivr.net/npm//vega-lite@4.0.0?noext\",\n",
       "      \"vega-embed\": \"https://cdn.jsdelivr.net/npm//vega-embed@6?noext\",\n",
       "    };\n",
       "\n",
       "    function loadScript(lib) {\n",
       "      return new Promise(function(resolve, reject) {\n",
       "        var s = document.createElement('script');\n",
       "        s.src = paths[lib];\n",
       "        s.async = true;\n",
       "        s.onload = () => resolve(paths[lib]);\n",
       "        s.onerror = () => reject(`Error loading script: ${paths[lib]}`);\n",
       "        document.getElementsByTagName(\"head\")[0].appendChild(s);\n",
       "      });\n",
       "    }\n",
       "\n",
       "    function showError(err) {\n",
       "      outputDiv.innerHTML = `<div class=\"error\" style=\"color:red;\">${err}</div>`;\n",
       "      throw err;\n",
       "    }\n",
       "\n",
       "    function displayChart(vegaEmbed) {\n",
       "      vegaEmbed(outputDiv, spec, embedOpt)\n",
       "        .catch(err => showError(`Javascript Error: ${err.message}<br>This usually means there's a typo in your chart specification. See the javascript console for the full traceback.`));\n",
       "    }\n",
       "\n",
       "    if(typeof define === \"function\" && define.amd) {\n",
       "      requirejs.config({paths});\n",
       "      require([\"vega-embed\"], displayChart, err => showError(`Error loading script: ${err.message}`));\n",
       "    } else if (typeof vegaEmbed === \"function\") {\n",
       "      displayChart(vegaEmbed);\n",
       "    } else {\n",
       "      loadScript(\"vega\")\n",
       "        .then(() => loadScript(\"vega-lite\"))\n",
       "        .then(() => loadScript(\"vega-embed\"))\n",
       "        .catch(showError)\n",
       "        .then(() => displayChart(vegaEmbed));\n",
       "    }\n",
       "  })({\"config\": {\"view\": {\"continuousWidth\": 400, \"continuousHeight\": 300}}, \"layer\": [{\"mark\": {\"type\": \"line\", \"color\": \"green\", \"opacity\": 0.5}, \"encoding\": {\"x\": {\"type\": \"temporal\", \"field\": \"date\"}, \"y\": {\"type\": \"quantitative\", \"axis\": {\"format\": \"$.2f\", \"title\": \"Price\"}, \"field\": \"position\", \"scale\": {\"clamp\": true, \"domain\": [79.66449, 230.959747]}}}, \"selection\": {\"selector061\": {\"type\": \"interval\", \"bind\": \"scales\", \"encodings\": [\"x\"]}}}, {\"mark\": {\"type\": \"point\", \"filled\": true}, \"encoding\": {\"color\": {\"type\": \"nominal\", \"field\": \"action\"}, \"x\": {\"type\": \"temporal\", \"axis\": {\"title\": \"Date\"}, \"field\": \"date\"}, \"y\": {\"type\": \"quantitative\", \"axis\": {\"format\": \"$.2f\", \"title\": \"Price\"}, \"field\": \"position\", \"scale\": {\"clamp\": true, \"domain\": [79.66449, 230.959747]}}}, \"selection\": {\"selector062\": {\"type\": \"interval\", \"bind\": \"scales\", \"encodings\": [\"x\"]}}, \"transform\": [{\"filter\": \"(datum.action !== 'HOLD')\"}]}, {\"mark\": {\"type\": \"point\", \"filled\": true}, \"encoding\": {\"color\": {\"type\": \"nominal\", \"field\": \"action_2\"}, \"x\": {\"type\": \"temporal\", \"axis\": {\"title\": \"Date\"}, \"field\": \"date\"}, \"y\": {\"type\": \"quantitative\", \"axis\": {\"format\": \"$.2f\", \"title\": \"Price\"}, \"field\": \"position\", \"scale\": {\"clamp\": true, \"domain\": [79.66449, 230.959747]}}}, \"selection\": {\"selector063\": {\"type\": \"interval\", \"bind\": \"scales\", \"encodings\": [\"x\"]}}, \"transform\": [{\"filter\": \"(datum.action !== 'HOLD')\"}]}], \"data\": {\"name\": \"data-40d08a71d36db04e1106d6e509bce558\"}, \"height\": 300, \"title\": \"Buy/Sell visualiztion on AAPL\", \"width\": 1000, \"$schema\": \"https://vega.github.io/schema/vega-lite/v4.0.0.json\", \"datasets\": {\"data-40d08a71d36db04e1106d6e509bce558\": [{\"date\": \"2022-01-03T00:00:00\", \"actual\": 180.959747, \"position\": 180.959747, \"action\": \"HOLD\", \"shares\": 0, \"action_2\": \"HOLD\", \"action_3\": \"HOLD\", \"action_4\": \"HOLD\"}, {\"date\": \"2022-01-04T00:00:00\", \"actual\": 178.663071, \"position\": 180.959747, \"action\": \"HOLD\", \"shares\": \"0\", \"action_2\": \"HOLD\", \"action_3\": \"HOLD\", \"action_4\": \"HOLD\"}, {\"date\": \"2022-01-05T00:00:00\", \"actual\": 173.91066, \"position\": 178.663071, \"action\": \"HOLD\", \"shares\": \"0\", \"action_2\": \"BUY\", \"action_3\": \"HOLD\", \"action_4\": \"HOLD\"}, {\"date\": \"2022-01-06T00:00:00\", \"actual\": 171.007523, \"position\": 173.91066, \"action\": \"HOLD\", \"shares\": \"0\", \"action_2\": \"BUY\", \"action_3\": \"HOLD\", \"action_4\": \"BUY\"}, {\"date\": \"2022-01-07T00:00:00\", \"actual\": 171.17652900000002, \"position\": 171.007523, \"action\": \"HOLD\", \"shares\": \"0\", \"action_2\": \"BUY\", \"action_3\": \"HOLD\", \"action_4\": \"HOLD\"}, {\"date\": \"2022-01-10T00:00:00\", \"actual\": 171.196426, \"position\": 171.17652900000002, \"action\": \"BUY\", \"shares\": \"7\", \"action_2\": \"BUY\", \"action_3\": \"BUY\", \"action_4\": \"HOLD\"}, {\"date\": \"2022-01-11T00:00:00\", \"actual\": 174.069748, \"position\": 171.196426, \"action\": \"BUY\", \"shares\": \"9\", \"action_2\": \"SELL\", \"action_3\": \"BUY\", \"action_4\": \"HOLD\"}, {\"date\": \"2022-01-12T00:00:00\", \"actual\": 174.51713600000002, \"position\": 174.069748, \"action\": \"SELL\", \"shares\": \"5\", \"action_2\": \"SELL\", \"action_3\": \"SELL\", \"action_4\": \"HOLD\"}, {\"date\": \"2022-01-13T00:00:00\", \"actual\": 171.196426, \"position\": 174.51713600000002, \"action\": \"SELL\", \"shares\": \"3\", \"action_2\": \"SELL\", \"action_3\": \"SELL\", \"action_4\": \"HOLD\"}, {\"date\": \"2022-01-14T00:00:00\", \"actual\": 172.07135, \"position\": 171.196426, \"action\": \"SELL\", \"shares\": \"5\", \"action_2\": \"SELL\", \"action_3\": \"BUY\", \"action_4\": \"HOLD\"}, {\"date\": \"2022-01-18T00:00:00\", \"actual\": 168.820206, \"position\": 172.07135, \"action\": \"SELL\", \"shares\": \"3\", \"action_2\": \"HOLD\", \"action_3\": \"BUY\", \"action_4\": \"HOLD\"}, {\"date\": \"2022-01-19T00:00:00\", \"actual\": 165.27079799999998, \"position\": 168.820206, \"action\": \"BUY\", \"shares\": \"9\", \"action_2\": \"BUY\", \"action_3\": \"SELL\", \"action_4\": \"SELL\"}, {\"date\": \"2022-01-20T00:00:00\", \"actual\": 163.56073, \"position\": 165.27079799999998, \"action\": \"SELL\", \"shares\": \"5\", \"action_2\": \"BUY\", \"action_3\": \"SELL\", \"action_4\": \"HOLD\"}, {\"date\": \"2022-01-21T00:00:00\", \"actual\": 161.472855, \"position\": 163.56073, \"action\": \"SELL\", \"shares\": \"4\", \"action_2\": \"BUY\", \"action_3\": \"SELL\", \"action_4\": \"BUY\"}, {\"date\": \"2022-01-24T00:00:00\", \"actual\": 160.687393, \"position\": 161.472855, \"action\": \"BUY\", \"shares\": \"9\", \"action_2\": \"BUY\", \"action_3\": \"SELL\", \"action_4\": \"HOLD\"}, {\"date\": \"2022-01-25T00:00:00\", \"actual\": 158.858017, \"position\": 160.687393, \"action\": \"SELL\", \"shares\": \"5\", \"action_2\": \"BUY\", \"action_3\": \"SELL\", \"action_4\": \"BUY\"}, {\"date\": \"2022-01-26T00:00:00\", \"actual\": 158.76853899999998, \"position\": 158.858017, \"action\": \"BUY\", \"shares\": \"9\", \"action_2\": \"BUY\", \"action_3\": \"SELL\", \"action_4\": \"BUY\"}, {\"date\": \"2022-01-27T00:00:00\", \"actual\": 158.301254, \"position\": 158.76853899999998, \"action\": \"BUY\", \"shares\": \"9\", \"action_2\": \"BUY\", \"action_3\": \"HOLD\", \"action_4\": \"HOLD\"}, {\"date\": \"2022-01-28T00:00:00\", \"actual\": 169.347137, \"position\": 158.301254, \"action\": \"BUY\", \"shares\": \"9\", \"action_2\": \"BUY\", \"action_3\": \"HOLD\", \"action_4\": \"SELL\"}, {\"date\": \"2022-01-31T00:00:00\", \"actual\": 173.771454, \"position\": 169.347137, \"action\": \"BUY\", \"shares\": \"9\", \"action_2\": \"BUY\", \"action_3\": \"HOLD\", \"action_4\": \"SELL\"}, {\"date\": \"2022-02-01T00:00:00\", \"actual\": 173.602463, \"position\": 173.771454, \"action\": \"BUY\", \"shares\": \"9\", \"action_2\": \"BUY\", \"action_3\": \"HOLD\", \"action_4\": \"SELL\"}, {\"date\": \"2022-02-02T00:00:00\", \"actual\": 174.825333, \"position\": 173.602463, \"action\": \"BUY\", \"shares\": \"9\", \"action_2\": \"SELL\", \"action_3\": \"HOLD\", \"action_4\": \"BUY\"}, {\"date\": \"2022-02-03T00:00:00\", \"actual\": 171.902298, \"position\": 174.825333, \"action\": \"SELL\", \"shares\": \"5\", \"action_2\": \"SELL\", \"action_3\": \"HOLD\", \"action_4\": \"BUY\"}, {\"date\": \"2022-02-04T00:00:00\", \"actual\": 171.613632, \"position\": 171.902298, \"action\": \"SELL\", \"shares\": \"1\", \"action_2\": \"SELL\", \"action_3\": \"HOLD\", \"action_4\": \"BUY\"}, {\"date\": \"2022-02-07T00:00:00\", \"actual\": 170.88691699999998, \"position\": 171.613632, \"action\": \"SELL\", \"shares\": \"5\", \"action_2\": \"SELL\", \"action_3\": \"HOLD\", \"action_4\": \"SELL\"}, {\"date\": \"2022-02-08T00:00:00\", \"actual\": 174.042633, \"position\": 170.88691699999998, \"action\": \"SELL\", \"shares\": \"5\", \"action_2\": \"SELL\", \"action_3\": \"HOLD\", \"action_4\": \"SELL\"}, {\"date\": \"2022-02-09T00:00:00\", \"actual\": 175.486099, \"position\": 174.042633, \"action\": \"SELL\", \"shares\": \"5\", \"action_2\": \"SELL\", \"action_3\": \"HOLD\", \"action_4\": \"BUY\"}, {\"date\": \"2022-02-10T00:00:00\", \"actual\": 171.344833, \"position\": 175.486099, \"action\": \"SELL\", \"shares\": \"5\", \"action_2\": \"SELL\", \"action_3\": \"HOLD\", \"action_4\": \"SELL\"}, {\"date\": \"2022-02-11T00:00:00\", \"actual\": 167.88050800000002, \"position\": 171.344833, \"action\": \"SELL\", \"shares\": \"5\", \"action_2\": \"SELL\", \"action_3\": \"HOLD\", \"action_4\": \"BUY\"}, {\"date\": \"2022-02-14T00:00:00\", \"actual\": 168.11944599999998, \"position\": 167.88050800000002, \"action\": \"SELL\", \"shares\": \"5\", \"action_2\": \"BUY\", \"action_3\": \"HOLD\", \"action_4\": \"BUY\"}, {\"date\": \"2022-02-15T00:00:00\", \"actual\": 172.01181, \"position\": 168.11944599999998, \"action\": \"SELL\", \"shares\": \"5\", \"action_2\": \"BUY\", \"action_3\": \"HOLD\", \"action_4\": \"HOLD\"}, {\"date\": \"2022-02-16T00:00:00\", \"actual\": 171.772903, \"position\": 172.01181, \"action\": \"BUY\", \"shares\": \"7\", \"action_2\": \"BUY\", \"action_3\": \"HOLD\", \"action_4\": \"SELL\"}, {\"date\": \"2022-02-17T00:00:00\", \"actual\": 168.11944599999998, \"position\": 171.772903, \"action\": \"SELL\", \"shares\": \"5\", \"action_2\": \"BUY\", \"action_3\": \"HOLD\", \"action_4\": \"HOLD\"}, {\"date\": \"2022-02-18T00:00:00\", \"actual\": 166.546555, \"position\": 168.11944599999998, \"action\": \"SELL\", \"shares\": \"5\", \"action_2\": \"BUY\", \"action_3\": \"HOLD\", \"action_4\": \"SELL\"}, {\"date\": \"2022-02-22T00:00:00\", \"actual\": 163.57998700000002, \"position\": 166.546555, \"action\": \"SELL\", \"shares\": \"5\", \"action_2\": \"BUY\", \"action_3\": \"HOLD\", \"action_4\": \"HOLD\"}, {\"date\": \"2022-02-23T00:00:00\", \"actual\": 159.349121, \"position\": 163.57998700000002, \"action\": \"SELL\", \"shares\": \"4\", \"action_2\": \"BUY\", \"action_3\": \"HOLD\", \"action_4\": \"BUY\"}, {\"date\": \"2022-02-24T00:00:00\", \"actual\": 162.007095, \"position\": 159.349121, \"action\": \"BUY\", \"shares\": \"9\", \"action_2\": \"BUY\", \"action_3\": \"HOLD\", \"action_4\": \"HOLD\"}, {\"date\": \"2022-02-25T00:00:00\", \"actual\": 164.10759, \"position\": 162.007095, \"action\": \"BUY\", \"shares\": \"9\", \"action_2\": \"BUY\", \"action_3\": \"HOLD\", \"action_4\": \"BUY\"}, {\"date\": \"2022-02-28T00:00:00\", \"actual\": 164.376358, \"position\": 164.10759, \"action\": \"SELL\", \"shares\": \"5\", \"action_2\": \"SELL\", \"action_3\": \"HOLD\", \"action_4\": \"HOLD\"}, {\"date\": \"2022-03-01T00:00:00\", \"actual\": 162.465012, \"position\": 164.376358, \"action\": \"SELL\", \"shares\": \"5\", \"action_2\": \"SELL\", \"action_3\": \"HOLD\", \"action_4\": \"BUY\"}, {\"date\": \"2022-03-02T00:00:00\", \"actual\": 165.809875, \"position\": 162.465012, \"action\": \"SELL\", \"shares\": \"5\", \"action_2\": \"SELL\", \"action_3\": \"HOLD\", \"action_4\": \"SELL\"}, {\"date\": \"2022-03-03T00:00:00\", \"actual\": 165.481369, \"position\": 165.809875, \"action\": \"SELL\", \"shares\": \"5\", \"action_2\": \"SELL\", \"action_3\": \"HOLD\", \"action_4\": \"SELL\"}, {\"date\": \"2022-03-04T00:00:00\", \"actual\": 162.435135, \"position\": 165.481369, \"action\": \"BUY\", \"shares\": \"9\", \"action_2\": \"SELL\", \"action_3\": \"HOLD\", \"action_4\": \"HOLD\"}, {\"date\": \"2022-03-07T00:00:00\", \"actual\": 158.582581, \"position\": 162.435135, \"action\": \"SELL\", \"shares\": \"5\", \"action_2\": \"SELL\", \"action_3\": \"HOLD\", \"action_4\": \"HOLD\"}, {\"date\": \"2022-03-08T00:00:00\", \"actual\": 156.730942, \"position\": 158.582581, \"action\": \"SELL\", \"shares\": \"5\", \"action_2\": \"SELL\", \"action_3\": \"HOLD\", \"action_4\": \"HOLD\"}, {\"date\": \"2022-03-09T00:00:00\", \"actual\": 162.216141, \"position\": 156.730942, \"action\": \"HOLD\", \"shares\": \"0\", \"action_2\": \"SELL\", \"action_3\": \"HOLD\", \"action_4\": \"SELL\"}, {\"date\": \"2022-03-10T00:00:00\", \"actual\": 157.806107, \"position\": 162.216141, \"action\": \"HOLD\", \"shares\": \"0\", \"action_2\": \"BUY\", \"action_3\": \"HOLD\", \"action_4\": \"HOLD\"}, {\"date\": \"2022-03-11T00:00:00\", \"actual\": 154.03315700000002, \"position\": 157.806107, \"action\": \"BUY\", \"shares\": \"9\", \"action_2\": \"BUY\", \"action_3\": \"HOLD\", \"action_4\": \"HOLD\"}, {\"date\": \"2022-03-14T00:00:00\", \"actual\": 149.94165, \"position\": 154.03315700000002, \"action\": \"BUY\", \"shares\": \"9\", \"action_2\": \"BUY\", \"action_3\": \"BUY\", \"action_4\": \"BUY\"}, {\"date\": \"2022-03-15T00:00:00\", \"actual\": 154.391525, \"position\": 149.94165, \"action\": \"BUY\", \"shares\": \"9\", \"action_2\": \"BUY\", \"action_3\": \"SELL\", \"action_4\": \"HOLD\"}, {\"date\": \"2022-03-16T00:00:00\", \"actual\": 158.871277, \"position\": 154.391525, \"action\": \"BUY\", \"shares\": \"9\", \"action_2\": \"BUY\", \"action_3\": \"SELL\", \"action_4\": \"SELL\"}, {\"date\": \"2022-03-17T00:00:00\", \"actual\": 159.896622, \"position\": 158.871277, \"action\": \"BUY\", \"shares\": \"9\", \"action_2\": \"BUY\", \"action_3\": \"HOLD\", \"action_4\": \"BUY\"}, {\"date\": \"2022-03-18T00:00:00\", \"actual\": 163.241501, \"position\": 159.896622, \"action\": \"SELL\", \"shares\": \"3\", \"action_2\": \"SELL\", \"action_3\": \"HOLD\", \"action_4\": \"SELL\"}, {\"date\": \"2022-03-21T00:00:00\", \"actual\": 164.635193, \"position\": 163.241501, \"action\": \"SELL\", \"shares\": \"5\", \"action_2\": \"SELL\", \"action_3\": \"HOLD\", \"action_4\": \"BUY\"}, {\"date\": \"2022-03-22T00:00:00\", \"actual\": 168.059708, \"position\": 164.635193, \"action\": \"SELL\", \"shares\": \"5\", \"action_2\": \"SELL\", \"action_3\": \"HOLD\", \"action_4\": \"BUY\"}, {\"date\": \"2022-03-23T00:00:00\", \"actual\": 169.443451, \"position\": 168.059708, \"action\": \"SELL\", \"shares\": \"5\", \"action_2\": \"SELL\", \"action_3\": \"HOLD\", \"action_4\": \"SELL\"}, {\"date\": \"2022-03-24T00:00:00\", \"actual\": 173.286057, \"position\": 169.443451, \"action\": \"SELL\", \"shares\": \"5\", \"action_2\": \"SELL\", \"action_3\": \"HOLD\", \"action_4\": \"SELL\"}, {\"date\": \"2022-03-25T00:00:00\", \"actual\": 173.93313600000002, \"position\": 173.286057, \"action\": \"SELL\", \"shares\": \"5\", \"action_2\": \"SELL\", \"action_3\": \"HOLD\", \"action_4\": \"HOLD\"}, {\"date\": \"2022-03-28T00:00:00\", \"actual\": 174.809174, \"position\": 173.93313600000002, \"action\": \"SELL\", \"shares\": \"5\", \"action_2\": \"SELL\", \"action_3\": \"HOLD\", \"action_4\": \"HOLD\"}, {\"date\": \"2022-03-29T00:00:00\", \"actual\": 178.154053, \"position\": 174.809174, \"action\": \"SELL\", \"shares\": \"5\", \"action_2\": \"SELL\", \"action_3\": \"HOLD\", \"action_4\": \"HOLD\"}, {\"date\": \"2022-03-30T00:00:00\", \"actual\": 176.969406, \"position\": 178.154053, \"action\": \"SELL\", \"shares\": \"5\", \"action_2\": \"SELL\", \"action_3\": \"HOLD\", \"action_4\": \"HOLD\"}, {\"date\": \"2022-03-31T00:00:00\", \"actual\": 173.823624, \"position\": 176.969406, \"action\": \"HOLD\", \"shares\": \"0\", \"action_2\": \"SELL\", \"action_3\": \"HOLD\", \"action_4\": \"BUY\"}, {\"date\": \"2022-04-01T00:00:00\", \"actual\": 173.524979, \"position\": 173.823624, \"action\": \"HOLD\", \"shares\": \"0\", \"action_2\": \"SELL\", \"action_3\": \"HOLD\", \"action_4\": \"BUY\"}, {\"date\": \"2022-04-04T00:00:00\", \"actual\": 177.636383, \"position\": 173.524979, \"action\": \"SELL\", \"shares\": \"1\", \"action_2\": \"SELL\", \"action_3\": \"HOLD\", \"action_4\": \"BUY\"}, {\"date\": \"2022-04-05T00:00:00\", \"actual\": 174.27160600000002, \"position\": 177.636383, \"action\": \"HOLD\", \"shares\": \"0\", \"action_2\": \"SELL\", \"action_3\": \"HOLD\", \"action_4\": \"SELL\"}, {\"date\": \"2022-04-06T00:00:00\", \"actual\": 171.056137, \"position\": 174.27160600000002, \"action\": \"HOLD\", \"shares\": \"0\", \"action_2\": \"SELL\", \"action_3\": \"HOLD\", \"action_4\": \"BUY\"}, {\"date\": \"2022-04-07T00:00:00\", \"actual\": 171.364746, \"position\": 171.056137, \"action\": \"HOLD\", \"shares\": \"0\", \"action_2\": \"BUY\", \"action_3\": \"HOLD\", \"action_4\": \"BUY\"}, {\"date\": \"2022-04-08T00:00:00\", \"actual\": 169.323975, \"position\": 171.364746, \"action\": \"HOLD\", \"shares\": \"0\", \"action_2\": \"BUY\", \"action_3\": \"HOLD\", \"action_4\": \"BUY\"}, {\"date\": \"2022-04-11T00:00:00\", \"actual\": 165.003525, \"position\": 169.323975, \"action\": \"HOLD\", \"shares\": \"0\", \"action_2\": \"BUY\", \"action_3\": \"HOLD\", \"action_4\": \"SELL\"}, {\"date\": \"2022-04-12T00:00:00\", \"actual\": 166.904922, \"position\": 165.003525, \"action\": \"HOLD\", \"shares\": \"0\", \"action_2\": \"BUY\", \"action_3\": \"HOLD\", \"action_4\": \"BUY\"}, {\"date\": \"2022-04-13T00:00:00\", \"actual\": 169.632584, \"position\": 166.904922, \"action\": \"HOLD\", \"shares\": \"0\", \"action_2\": \"BUY\", \"action_3\": \"HOLD\", \"action_4\": \"SELL\"}, {\"date\": \"2022-04-14T00:00:00\", \"actual\": 164.545593, \"position\": 169.632584, \"action\": \"HOLD\", \"shares\": \"0\", \"action_2\": \"SELL\", \"action_3\": \"HOLD\", \"action_4\": \"SELL\"}, {\"date\": \"2022-04-18T00:00:00\", \"actual\": 164.326599, \"position\": 164.545593, \"action\": \"HOLD\", \"shares\": \"0\", \"action_2\": \"BUY\", \"action_3\": \"HOLD\", \"action_4\": \"BUY\"}, {\"date\": \"2022-04-19T00:00:00\", \"actual\": 166.646088, \"position\": 164.326599, \"action\": \"HOLD\", \"shares\": \"0\", \"action_2\": \"SELL\", \"action_3\": \"HOLD\", \"action_4\": \"BUY\"}, {\"date\": \"2022-04-20T00:00:00\", \"actual\": 166.476868, \"position\": 166.646088, \"action\": \"HOLD\", \"shares\": \"0\", \"action_2\": \"SELL\", \"action_3\": \"HOLD\", \"action_4\": \"BUY\"}, {\"date\": \"2022-04-21T00:00:00\", \"actual\": 165.670517, \"position\": 166.476868, \"action\": \"SELL\", \"shares\": \"3\", \"action_2\": \"SELL\", \"action_3\": \"HOLD\", \"action_4\": \"BUY\"}, {\"date\": \"2022-04-22T00:00:00\", \"actual\": 161.06135600000002, \"position\": 165.670517, \"action\": \"HOLD\", \"shares\": \"0\", \"action_2\": \"SELL\", \"action_3\": \"HOLD\", \"action_4\": \"BUY\"}, {\"date\": \"2022-04-25T00:00:00\", \"actual\": 162.146454, \"position\": 161.06135600000002, \"action\": \"HOLD\", \"shares\": \"0\", \"action_2\": \"BUY\", \"action_3\": \"HOLD\", \"action_4\": \"SELL\"}, {\"date\": \"2022-04-26T00:00:00\", \"actual\": 156.093842, \"position\": 162.146454, \"action\": \"HOLD\", \"shares\": \"0\", \"action_2\": \"SELL\", \"action_3\": \"HOLD\", \"action_4\": \"SELL\"}, {\"date\": \"2022-04-27T00:00:00\", \"actual\": 155.86488300000002, \"position\": 156.093842, \"action\": \"HOLD\", \"shares\": \"0\", \"action_2\": \"SELL\", \"action_3\": \"HOLD\", \"action_4\": \"BUY\"}, {\"date\": \"2022-04-28T00:00:00\", \"actual\": 162.90303, \"position\": 155.86488300000002, \"action\": \"HOLD\", \"shares\": \"0\", \"action_2\": \"BUY\", \"action_3\": \"HOLD\", \"action_4\": \"SELL\"}, {\"date\": \"2022-04-29T00:00:00\", \"actual\": 156.939987, \"position\": 162.90303, \"action\": \"HOLD\", \"shares\": \"0\", \"action_2\": \"BUY\", \"action_3\": \"HOLD\", \"action_4\": \"SELL\"}, {\"date\": \"2022-05-02T00:00:00\", \"actual\": 157.248627, \"position\": 156.939987, \"action\": \"BUY\", \"shares\": \"9\", \"action_2\": \"BUY\", \"action_3\": \"HOLD\", \"action_4\": \"BUY\"}, {\"date\": \"2022-05-03T00:00:00\", \"actual\": 158.76178000000002, \"position\": 157.248627, \"action\": \"SELL\", \"shares\": \"5\", \"action_2\": \"SELL\", \"action_3\": \"HOLD\", \"action_4\": \"SELL\"}, {\"date\": \"2022-05-04T00:00:00\", \"actual\": 165.272324, \"position\": 158.76178000000002, \"action\": \"HOLD\", \"shares\": \"0\", \"action_2\": \"SELL\", \"action_3\": \"HOLD\", \"action_4\": \"BUY\"}, {\"date\": \"2022-05-05T00:00:00\", \"actual\": 156.06398000000002, \"position\": 165.272324, \"action\": \"HOLD\", \"shares\": \"0\", \"action_2\": \"BUY\", \"action_3\": \"HOLD\", \"action_4\": \"BUY\"}, {\"date\": \"2022-05-06T00:00:00\", \"actual\": 156.801727, \"position\": 156.06398000000002, \"action\": \"BUY\", \"shares\": \"9\", \"action_2\": \"BUY\", \"action_3\": \"HOLD\", \"action_4\": \"HOLD\"}, {\"date\": \"2022-05-09T00:00:00\", \"actual\": 151.59759499999998, \"position\": 156.801727, \"action\": \"BUY\", \"shares\": \"9\", \"action_2\": \"SELL\", \"action_3\": \"HOLD\", \"action_4\": \"HOLD\"}, {\"date\": \"2022-05-10T00:00:00\", \"actual\": 154.040131, \"position\": 151.59759499999998, \"action\": \"SELL\", \"shares\": \"1\", \"action_2\": \"SELL\", \"action_3\": \"HOLD\", \"action_4\": \"HOLD\"}, {\"date\": \"2022-05-11T00:00:00\", \"actual\": 146.054504, \"position\": 154.040131, \"action\": \"SELL\", \"shares\": \"5\", \"action_2\": \"SELL\", \"action_3\": \"HOLD\", \"action_4\": \"SELL\"}, {\"date\": \"2022-05-12T00:00:00\", \"actual\": 142.12648000000002, \"position\": 146.054504, \"action\": \"SELL\", \"shares\": \"5\", \"action_2\": \"BUY\", \"action_3\": \"HOLD\", \"action_4\": \"BUY\"}, {\"date\": \"2022-05-13T00:00:00\", \"actual\": 146.662643, \"position\": 142.12648000000002, \"action\": \"BUY\", \"shares\": \"9\", \"action_2\": \"BUY\", \"action_3\": \"HOLD\", \"action_4\": \"SELL\"}, {\"date\": \"2022-05-16T00:00:00\", \"actual\": 145.09741200000002, \"position\": 146.662643, \"action\": \"SELL\", \"shares\": \"5\", \"action_2\": \"BUY\", \"action_3\": \"HOLD\", \"action_4\": \"BUY\"}, {\"date\": \"2022-05-17T00:00:00\", \"actual\": 148.786179, \"position\": 145.09741200000002, \"action\": \"SELL\", \"shares\": \"5\", \"action_2\": \"BUY\", \"action_3\": \"HOLD\", \"action_4\": \"BUY\"}, {\"date\": \"2022-05-18T00:00:00\", \"actual\": 140.391785, \"position\": 148.786179, \"action\": \"BUY\", \"shares\": \"9\", \"action_2\": \"BUY\", \"action_3\": \"SELL\", \"action_4\": \"SELL\"}, {\"date\": \"2022-05-19T00:00:00\", \"actual\": 136.932343, \"position\": 140.391785, \"action\": \"BUY\", \"shares\": \"9\", \"action_2\": \"BUY\", \"action_3\": \"HOLD\", \"action_4\": \"BUY\"}, {\"date\": \"2022-05-20T00:00:00\", \"actual\": 137.1716, \"position\": 136.932343, \"action\": \"BUY\", \"shares\": \"9\", \"action_2\": \"BUY\", \"action_3\": \"HOLD\", \"action_4\": \"SELL\"}, {\"date\": \"2022-05-23T00:00:00\", \"actual\": 142.67481999999998, \"position\": 137.1716, \"action\": \"SELL\", \"shares\": \"5\", \"action_2\": \"BUY\", \"action_3\": \"HOLD\", \"action_4\": \"SELL\"}, {\"date\": \"2022-05-24T00:00:00\", \"actual\": 139.93318200000002, \"position\": 142.67481999999998, \"action\": \"SELL\", \"shares\": \"5\", \"action_2\": \"BUY\", \"action_3\": \"HOLD\", \"action_4\": \"BUY\"}, {\"date\": \"2022-05-25T00:00:00\", \"actual\": 140.092697, \"position\": 139.93318200000002, \"action\": \"BUY\", \"shares\": \"9\", \"action_2\": \"BUY\", \"action_3\": \"HOLD\", \"action_4\": \"SELL\"}, {\"date\": \"2022-05-26T00:00:00\", \"actual\": 143.342773, \"position\": 140.092697, \"action\": \"SELL\", \"shares\": \"5\", \"action_2\": \"SELL\", \"action_3\": \"HOLD\", \"action_4\": \"SELL\"}, {\"date\": \"2022-05-27T00:00:00\", \"actual\": 149.184952, \"position\": 143.342773, \"action\": \"SELL\", \"shares\": \"5\", \"action_2\": \"SELL\", \"action_3\": \"HOLD\", \"action_4\": \"SELL\"}, {\"date\": \"2022-05-31T00:00:00\", \"actual\": 148.38738999999998, \"position\": 149.184952, \"action\": \"SELL\", \"shares\": \"5\", \"action_2\": \"BUY\", \"action_3\": \"HOLD\", \"action_4\": \"BUY\"}, {\"date\": \"2022-06-01T00:00:00\", \"actual\": 148.257797, \"position\": 148.38738999999998, \"action\": \"SELL\", \"shares\": \"5\", \"action_2\": \"SELL\", \"action_3\": \"HOLD\", \"action_4\": \"BUY\"}, {\"date\": \"2022-06-02T00:00:00\", \"actual\": 150.75018300000002, \"position\": 148.257797, \"action\": \"SELL\", \"shares\": \"5\", \"action_2\": \"SELL\", \"action_3\": \"HOLD\", \"action_4\": \"SELL\"}, {\"date\": \"2022-06-03T00:00:00\", \"actual\": 144.937912, \"position\": 150.75018300000002, \"action\": \"SELL\", \"shares\": \"5\", \"action_2\": \"SELL\", \"action_3\": \"HOLD\", \"action_4\": \"SELL\"}, {\"date\": \"2022-06-06T00:00:00\", \"actual\": 145.695602, \"position\": 144.937912, \"action\": \"SELL\", \"shares\": \"5\", \"action_2\": \"SELL\", \"action_3\": \"HOLD\", \"action_4\": \"SELL\"}, {\"date\": \"2022-06-07T00:00:00\", \"actual\": 148.257797, \"position\": 145.695602, \"action\": \"HOLD\", \"shares\": \"0\", \"action_2\": \"SELL\", \"action_3\": \"HOLD\", \"action_4\": \"BUY\"}, {\"date\": \"2022-06-08T00:00:00\", \"actual\": 147.51007099999998, \"position\": 148.257797, \"action\": \"HOLD\", \"shares\": \"0\", \"action_2\": \"SELL\", \"action_3\": \"HOLD\", \"action_4\": \"BUY\"}, {\"date\": \"2022-06-09T00:00:00\", \"actual\": 142.206253, \"position\": 147.51007099999998, \"action\": \"HOLD\", \"shares\": \"0\", \"action_2\": \"SELL\", \"action_3\": \"HOLD\", \"action_4\": \"SELL\"}, {\"date\": \"2022-06-10T00:00:00\", \"actual\": 136.713013, \"position\": 142.206253, \"action\": \"SELL\", \"shares\": \"1\", \"action_2\": \"BUY\", \"action_3\": \"HOLD\", \"action_4\": \"HOLD\"}, {\"date\": \"2022-06-13T00:00:00\", \"actual\": 131.478958, \"position\": 136.713013, \"action\": \"HOLD\", \"shares\": \"0\", \"action_2\": \"BUY\", \"action_3\": \"HOLD\", \"action_4\": \"BUY\"}, {\"date\": \"2022-06-14T00:00:00\", \"actual\": 132.356277, \"position\": 131.478958, \"action\": \"HOLD\", \"shares\": \"0\", \"action_2\": \"BUY\", \"action_3\": \"HOLD\", \"action_4\": \"SELL\"}, {\"date\": \"2022-06-15T00:00:00\", \"actual\": 135.018158, \"position\": 132.356277, \"action\": \"HOLD\", \"shares\": \"0\", \"action_2\": \"BUY\", \"action_3\": \"HOLD\", \"action_4\": \"BUY\"}, {\"date\": \"2022-06-16T00:00:00\", \"actual\": 129.66449, \"position\": 135.018158, \"action\": \"HOLD\", \"shares\": \"0\", \"action_2\": \"BUY\", \"action_3\": \"HOLD\", \"action_4\": \"SELL\"}, {\"date\": \"2022-06-17T00:00:00\", \"actual\": 131.159927, \"position\": 129.66449, \"action\": \"HOLD\", \"shares\": \"0\", \"action_2\": \"BUY\", \"action_3\": \"BUY\", \"action_4\": \"BUY\"}, {\"date\": \"2022-06-21T00:00:00\", \"actual\": 135.456818, \"position\": 131.159927, \"action\": \"HOLD\", \"shares\": \"0\", \"action_2\": \"BUY\", \"action_3\": \"SELL\", \"action_4\": \"HOLD\"}, {\"date\": \"2022-06-22T00:00:00\", \"actual\": 134.938416, \"position\": 135.456818, \"action\": \"HOLD\", \"shares\": \"0\", \"action_2\": \"BUY\", \"action_3\": \"SELL\", \"action_4\": \"SELL\"}, {\"date\": \"2022-06-23T00:00:00\", \"actual\": 137.849533, \"position\": 134.938416, \"action\": \"BUY\", \"shares\": \"9\", \"action_2\": \"SELL\", \"action_3\": \"HOLD\", \"action_4\": \"SELL\"}, {\"date\": \"2022-06-24T00:00:00\", \"actual\": 141.229233, \"position\": 137.849533, \"action\": \"SELL\", \"shares\": \"4\", \"action_2\": \"SELL\", \"action_3\": \"HOLD\", \"action_4\": \"BUY\"}, {\"date\": \"2022-06-27T00:00:00\", \"actual\": 141.229233, \"position\": 141.229233, \"action\": \"SELL\", \"shares\": \"5\", \"action_2\": \"SELL\", \"action_3\": \"HOLD\", \"action_4\": \"BUY\"}, {\"date\": \"2022-06-28T00:00:00\", \"actual\": 137.022064, \"position\": 141.229233, \"action\": \"HOLD\", \"shares\": \"0\", \"action_2\": \"SELL\", \"action_3\": \"HOLD\", \"action_4\": \"SELL\"}, {\"date\": \"2022-06-29T00:00:00\", \"actual\": 138.80661, \"position\": 137.022064, \"action\": \"HOLD\", \"shares\": \"0\", \"action_2\": \"SELL\", \"action_3\": \"HOLD\", \"action_4\": \"BUY\"}, {\"date\": \"2022-06-30T00:00:00\", \"actual\": 136.304245, \"position\": 138.80661, \"action\": \"HOLD\", \"shares\": \"0\", \"action_2\": \"SELL\", \"action_3\": \"HOLD\", \"action_4\": \"SELL\"}, {\"date\": \"2022-07-01T00:00:00\", \"actual\": 138.507507, \"position\": 136.304245, \"action\": \"HOLD\", \"shares\": \"0\", \"action_2\": \"SELL\", \"action_3\": \"HOLD\", \"action_4\": \"SELL\"}, {\"date\": \"2022-07-05T00:00:00\", \"actual\": 141.129532, \"position\": 138.507507, \"action\": \"HOLD\", \"shares\": \"0\", \"action_2\": \"SELL\", \"action_3\": \"HOLD\", \"action_4\": \"HOLD\"}, {\"date\": \"2022-07-06T00:00:00\", \"actual\": 142.48538200000002, \"position\": 141.129532, \"action\": \"HOLD\", \"shares\": \"0\", \"action_2\": \"SELL\", \"action_3\": \"HOLD\", \"action_4\": \"BUY\"}, {\"date\": \"2022-07-07T00:00:00\", \"actual\": 145.904968, \"position\": 142.48538200000002, \"action\": \"HOLD\", \"shares\": \"0\", \"action_2\": \"SELL\", \"action_3\": \"HOLD\", \"action_4\": \"BUY\"}, {\"date\": \"2022-07-08T00:00:00\", \"actual\": 146.59285, \"position\": 145.904968, \"action\": \"HOLD\", \"shares\": \"0\", \"action_2\": \"SELL\", \"action_3\": \"HOLD\", \"action_4\": \"SELL\"}, {\"date\": \"2022-07-11T00:00:00\", \"actual\": 144.429459, \"position\": 146.59285, \"action\": \"HOLD\", \"shares\": \"0\", \"action_2\": \"SELL\", \"action_3\": \"HOLD\", \"action_4\": \"HOLD\"}, {\"date\": \"2022-07-12T00:00:00\", \"actual\": 145.416443, \"position\": 144.429459, \"action\": \"HOLD\", \"shares\": \"0\", \"action_2\": \"SELL\", \"action_3\": \"HOLD\", \"action_4\": \"BUY\"}, {\"date\": \"2022-07-13T00:00:00\", \"actual\": 145.047577, \"position\": 145.416443, \"action\": \"HOLD\", \"shares\": \"0\", \"action_2\": \"SELL\", \"action_3\": \"HOLD\", \"action_4\": \"HOLD\"}, {\"date\": \"2022-07-14T00:00:00\", \"actual\": 148.01852399999999, \"position\": 145.047577, \"action\": \"HOLD\", \"shares\": \"0\", \"action_2\": \"SELL\", \"action_3\": \"HOLD\", \"action_4\": \"BUY\"}, {\"date\": \"2022-07-15T00:00:00\", \"actual\": 149.713333, \"position\": 148.01852399999999, \"action\": \"HOLD\", \"shares\": \"0\", \"action_2\": \"SELL\", \"action_3\": \"HOLD\", \"action_4\": \"BUY\"}, {\"date\": \"2022-07-18T00:00:00\", \"actual\": 146.62278700000002, \"position\": 149.713333, \"action\": \"HOLD\", \"shares\": \"0\", \"action_2\": \"SELL\", \"action_3\": \"HOLD\", \"action_4\": \"SELL\"}, {\"date\": \"2022-07-19T00:00:00\", \"actual\": 150.540817, \"position\": 146.62278700000002, \"action\": \"HOLD\", \"shares\": \"0\", \"action_2\": \"SELL\", \"action_3\": \"HOLD\", \"action_4\": \"SELL\"}, {\"date\": \"2022-07-20T00:00:00\", \"actual\": 152.574615, \"position\": 150.540817, \"action\": \"HOLD\", \"shares\": \"0\", \"action_2\": \"SELL\", \"action_3\": \"HOLD\", \"action_4\": \"BUY\"}, {\"date\": \"2022-07-21T00:00:00\", \"actual\": 154.877594, \"position\": 152.574615, \"action\": \"HOLD\", \"shares\": \"0\", \"action_2\": \"SELL\", \"action_3\": \"HOLD\", \"action_4\": \"SELL\"}, {\"date\": \"2022-07-22T00:00:00\", \"actual\": 153.621414, \"position\": 154.877594, \"action\": \"HOLD\", \"shares\": \"0\", \"action_2\": \"SELL\", \"action_3\": \"SELL\", \"action_4\": \"SELL\"}, {\"date\": \"2022-07-25T00:00:00\", \"actual\": 152.484894, \"position\": 153.621414, \"action\": \"HOLD\", \"shares\": \"0\", \"action_2\": \"SELL\", \"action_3\": \"HOLD\", \"action_4\": \"BUY\"}, {\"date\": \"2022-07-26T00:00:00\", \"actual\": 151.138992, \"position\": 152.484894, \"action\": \"HOLD\", \"shares\": \"0\", \"action_2\": \"SELL\", \"action_3\": \"HOLD\", \"action_4\": \"SELL\"}, {\"date\": \"2022-07-27T00:00:00\", \"actual\": 156.313202, \"position\": 151.138992, \"action\": \"HOLD\", \"shares\": \"0\", \"action_2\": \"SELL\", \"action_3\": \"HOLD\", \"action_4\": \"BUY\"}, {\"date\": \"2022-07-28T00:00:00\", \"actual\": 156.871521, \"position\": 156.313202, \"action\": \"HOLD\", \"shares\": \"0\", \"action_2\": \"SELL\", \"action_3\": \"HOLD\", \"action_4\": \"SELL\"}, {\"date\": \"2022-07-29T00:00:00\", \"actual\": 162.01580800000002, \"position\": 156.871521, \"action\": \"BUY\", \"shares\": \"7\", \"action_2\": \"BUY\", \"action_3\": \"HOLD\", \"action_4\": \"BUY\"}, {\"date\": \"2022-08-01T00:00:00\", \"actual\": 161.018845, \"position\": 162.01580800000002, \"action\": \"SELL\", \"shares\": \"5\", \"action_2\": \"SELL\", \"action_3\": \"HOLD\", \"action_4\": \"SELL\"}, {\"date\": \"2022-08-02T00:00:00\", \"actual\": 159.52340700000002, \"position\": 161.018845, \"action\": \"HOLD\", \"shares\": \"0\", \"action_2\": \"SELL\", \"action_3\": \"HOLD\", \"action_4\": \"BUY\"}, {\"date\": \"2022-08-03T00:00:00\", \"actual\": 165.62481699999998, \"position\": 159.52340700000002, \"action\": \"HOLD\", \"shares\": \"0\", \"action_2\": \"BUY\", \"action_3\": \"HOLD\", \"action_4\": \"SELL\"}, {\"date\": \"2022-08-04T00:00:00\", \"actual\": 165.305786, \"position\": 165.62481699999998, \"action\": \"HOLD\", \"shares\": \"0\", \"action_2\": \"SELL\", \"action_3\": \"HOLD\", \"action_4\": \"BUY\"}, {\"date\": \"2022-08-05T00:00:00\", \"actual\": 165.07617199999999, \"position\": 165.305786, \"action\": \"HOLD\", \"shares\": \"0\", \"action_2\": \"SELL\", \"action_3\": \"HOLD\", \"action_4\": \"BUY\"}, {\"date\": \"2022-08-08T00:00:00\", \"actual\": 164.596954, \"position\": 165.07617199999999, \"action\": \"HOLD\", \"shares\": \"0\", \"action_2\": \"BUY\", \"action_3\": \"HOLD\", \"action_4\": \"BUY\"}, {\"date\": \"2022-08-09T00:00:00\", \"actual\": 164.646866, \"position\": 164.596954, \"action\": \"SELL\", \"shares\": \"1\", \"action_2\": \"SELL\", \"action_3\": \"HOLD\", \"action_4\": \"BUY\"}, {\"date\": \"2022-08-10T00:00:00\", \"actual\": 168.959732, \"position\": 164.646866, \"action\": \"HOLD\", \"shares\": \"0\", \"action_2\": \"SELL\", \"action_3\": \"HOLD\", \"action_4\": \"SELL\"}, {\"date\": \"2022-08-11T00:00:00\", \"actual\": 168.21096799999998, \"position\": 168.959732, \"action\": \"HOLD\", \"shares\": \"0\", \"action_2\": \"SELL\", \"action_3\": \"HOLD\", \"action_4\": \"SELL\"}, {\"date\": \"2022-08-12T00:00:00\", \"actual\": 171.814987, \"position\": 168.21096799999998, \"action\": \"HOLD\", \"shares\": \"0\", \"action_2\": \"SELL\", \"action_3\": \"HOLD\", \"action_4\": \"BUY\"}, {\"date\": \"2022-08-15T00:00:00\", \"actual\": 172.903183, \"position\": 171.814987, \"action\": \"HOLD\", \"shares\": \"0\", \"action_2\": \"SELL\", \"action_3\": \"HOLD\", \"action_4\": \"SELL\"}, {\"date\": \"2022-08-16T00:00:00\", \"actual\": 172.743439, \"position\": 172.903183, \"action\": \"HOLD\", \"shares\": \"0\", \"action_2\": \"SELL\", \"action_3\": \"HOLD\", \"action_4\": \"SELL\"}, {\"date\": \"2022-08-17T00:00:00\", \"actual\": 174.260925, \"position\": 172.743439, \"action\": \"HOLD\", \"shares\": \"0\", \"action_2\": \"SELL\", \"action_3\": \"HOLD\", \"action_4\": \"SELL\"}, {\"date\": \"2022-08-18T00:00:00\", \"actual\": 173.86158799999998, \"position\": 174.260925, \"action\": \"HOLD\", \"shares\": \"0\", \"action_2\": \"SELL\", \"action_3\": \"HOLD\", \"action_4\": \"BUY\"}, {\"date\": \"2022-08-19T00:00:00\", \"actual\": 171.235947, \"position\": 173.86158799999998, \"action\": \"HOLD\", \"shares\": \"0\", \"action_2\": \"SELL\", \"action_3\": \"HOLD\", \"action_4\": \"BUY\"}, {\"date\": \"2022-08-22T00:00:00\", \"actual\": 167.292496, \"position\": 171.235947, \"action\": \"BUY\", \"shares\": \"7\", \"action_2\": \"SELL\", \"action_3\": \"HOLD\", \"action_4\": \"SELL\"}, {\"date\": \"2022-08-23T00:00:00\", \"actual\": 166.953049, \"position\": 167.292496, \"action\": \"SELL\", \"shares\": \"5\", \"action_2\": \"SELL\", \"action_3\": \"HOLD\", \"action_4\": \"SELL\"}, {\"date\": \"2022-08-24T00:00:00\", \"actual\": 167.252548, \"position\": 166.953049, \"action\": \"HOLD\", \"shares\": \"0\", \"action_2\": \"SELL\", \"action_3\": \"HOLD\", \"action_4\": \"HOLD\"}, {\"date\": \"2022-08-25T00:00:00\", \"actual\": 169.748413, \"position\": 167.252548, \"action\": \"HOLD\", \"shares\": \"0\", \"action_2\": \"SELL\", \"action_3\": \"HOLD\", \"action_4\": \"HOLD\"}, {\"date\": \"2022-08-26T00:00:00\", \"actual\": 163.34901399999998, \"position\": 169.748413, \"action\": \"HOLD\", \"shares\": \"0\", \"action_2\": \"SELL\", \"action_3\": \"HOLD\", \"action_4\": \"HOLD\"}, {\"date\": \"2022-08-29T00:00:00\", \"actual\": 161.11274699999998, \"position\": 163.34901399999998, \"action\": \"HOLD\", \"shares\": \"0\", \"action_2\": \"BUY\", \"action_3\": \"BUY\", \"action_4\": \"SELL\"}, {\"date\": \"2022-08-30T00:00:00\", \"actual\": 158.646835, \"position\": 161.11274699999998, \"action\": \"HOLD\", \"shares\": \"0\", \"action_2\": \"BUY\", \"action_3\": \"SELL\", \"action_4\": \"HOLD\"}, {\"date\": \"2022-08-31T00:00:00\", \"actual\": 156.959625, \"position\": 158.646835, \"action\": \"BUY\", \"shares\": \"9\", \"action_2\": \"BUY\", \"action_3\": \"SELL\", \"action_4\": \"BUY\"}, {\"date\": \"2022-09-01T00:00:00\", \"actual\": 157.69841, \"position\": 156.959625, \"action\": \"BUY\", \"shares\": \"9\", \"action_2\": \"BUY\", \"action_3\": \"BUY\", \"action_4\": \"BUY\"}, {\"date\": \"2022-09-02T00:00:00\", \"actual\": 155.55195600000002, \"position\": 157.69841, \"action\": \"BUY\", \"shares\": \"9\", \"action_2\": \"BUY\", \"action_3\": \"SELL\", \"action_4\": \"SELL\"}, {\"date\": \"2022-09-06T00:00:00\", \"actual\": 154.274078, \"position\": 155.55195600000002, \"action\": \"BUY\", \"shares\": \"9\", \"action_2\": \"BUY\", \"action_3\": \"HOLD\", \"action_4\": \"SELL\"}, {\"date\": \"2022-09-07T00:00:00\", \"actual\": 155.701721, \"position\": 154.274078, \"action\": \"BUY\", \"shares\": \"9\", \"action_2\": \"BUY\", \"action_3\": \"SELL\", \"action_4\": \"BUY\"}, {\"date\": \"2022-09-08T00:00:00\", \"actual\": 154.204208, \"position\": 155.701721, \"action\": \"SELL\", \"shares\": \"5\", \"action_2\": \"BUY\", \"action_3\": \"HOLD\", \"action_4\": \"BUY\"}, {\"date\": \"2022-09-09T00:00:00\", \"actual\": 157.109375, \"position\": 154.204208, \"action\": \"BUY\", \"shares\": \"9\", \"action_2\": \"BUY\", \"action_3\": \"HOLD\", \"action_4\": \"SELL\"}, {\"date\": \"2022-09-12T00:00:00\", \"actual\": 163.159332, \"position\": 157.109375, \"action\": \"SELL\", \"shares\": \"6\", \"action_2\": \"SELL\", \"action_3\": \"HOLD\", \"action_4\": \"SELL\"}, {\"date\": \"2022-09-13T00:00:00\", \"actual\": 153.58522, \"position\": 163.159332, \"action\": \"SELL\", \"shares\": \"5\", \"action_2\": \"BUY\", \"action_3\": \"HOLD\", \"action_4\": \"HOLD\"}, {\"date\": \"2022-09-14T00:00:00\", \"actual\": 155.05278, \"position\": 153.58522, \"action\": \"SELL\", \"shares\": \"5\", \"action_2\": \"BUY\", \"action_3\": \"HOLD\", \"action_4\": \"BUY\"}, {\"date\": \"2022-09-15T00:00:00\", \"actual\": 152.11764499999998, \"position\": 155.05278, \"action\": \"SELL\", \"shares\": \"5\", \"action_2\": \"SELL\", \"action_3\": \"HOLD\", \"action_4\": \"BUY\"}, {\"date\": \"2022-09-16T00:00:00\", \"actual\": 150.450424, \"position\": 152.11764499999998, \"action\": \"SELL\", \"shares\": \"5\", \"action_2\": \"SELL\", \"action_3\": \"HOLD\", \"action_4\": \"HOLD\"}, {\"date\": \"2022-09-19T00:00:00\", \"actual\": 154.224152, \"position\": 150.450424, \"action\": \"SELL\", \"shares\": \"5\", \"action_2\": \"SELL\", \"action_3\": \"HOLD\", \"action_4\": \"BUY\"}, {\"date\": \"2022-09-20T00:00:00\", \"actual\": 156.640152, \"position\": 154.224152, \"action\": \"SELL\", \"shares\": \"5\", \"action_2\": \"SELL\", \"action_3\": \"HOLD\", \"action_4\": \"BUY\"}, {\"date\": \"2022-09-21T00:00:00\", \"actual\": 153.465424, \"position\": 156.640152, \"action\": \"SELL\", \"shares\": \"5\", \"action_2\": \"SELL\", \"action_3\": \"HOLD\", \"action_4\": \"BUY\"}, {\"date\": \"2022-09-22T00:00:00\", \"actual\": 152.487045, \"position\": 153.465424, \"action\": \"SELL\", \"shares\": \"5\", \"action_2\": \"BUY\", \"action_3\": \"HOLD\", \"action_4\": \"SELL\"}, {\"date\": \"2022-09-23T00:00:00\", \"actual\": 150.18086200000002, \"position\": 152.487045, \"action\": \"SELL\", \"shares\": \"5\", \"action_2\": \"SELL\", \"action_3\": \"HOLD\", \"action_4\": \"SELL\"}, {\"date\": \"2022-09-26T00:00:00\", \"actual\": 150.520309, \"position\": 150.18086200000002, \"action\": \"HOLD\", \"shares\": \"0\", \"action_2\": \"BUY\", \"action_3\": \"HOLD\", \"action_4\": \"HOLD\"}, {\"date\": \"2022-09-27T00:00:00\", \"actual\": 151.508667, \"position\": 150.520309, \"action\": \"HOLD\", \"shares\": \"0\", \"action_2\": \"SELL\", \"action_3\": \"HOLD\", \"action_4\": \"SELL\"}, {\"date\": \"2022-09-28T00:00:00\", \"actual\": 149.59184299999998, \"position\": 151.508667, \"action\": \"HOLD\", \"shares\": \"0\", \"action_2\": \"HOLD\", \"action_3\": \"HOLD\", \"action_4\": \"SELL\"}, {\"date\": \"2022-09-29T00:00:00\", \"actual\": 142.244034, \"position\": 149.59184299999998, \"action\": \"HOLD\", \"shares\": \"0\", \"action_2\": \"BUY\", \"action_3\": \"HOLD\", \"action_4\": \"SELL\"}, {\"date\": \"2022-09-30T00:00:00\", \"actual\": 137.971115, \"position\": 142.244034, \"action\": \"BUY\", \"shares\": \"9\", \"action_2\": \"BUY\", \"action_3\": \"HOLD\", \"action_4\": \"HOLD\"}, {\"date\": \"2022-10-03T00:00:00\", \"actual\": 142.214081, \"position\": 137.971115, \"action\": \"SELL\", \"shares\": \"4\", \"action_2\": \"BUY\", \"action_3\": \"HOLD\", \"action_4\": \"HOLD\"}, {\"date\": \"2022-10-04T00:00:00\", \"actual\": 145.858047, \"position\": 142.214081, \"action\": \"BUY\", \"shares\": \"9\", \"action_2\": \"BUY\", \"action_3\": \"HOLD\", \"action_4\": \"SELL\"}, {\"date\": \"2022-10-05T00:00:00\", \"actual\": 146.157532, \"position\": 145.858047, \"action\": \"SELL\", \"shares\": \"5\", \"action_2\": \"BUY\", \"action_3\": \"HOLD\", \"action_4\": \"BUY\"}, {\"date\": \"2022-10-06T00:00:00\", \"actual\": 145.189148, \"position\": 146.157532, \"action\": \"SELL\", \"shares\": \"3\", \"action_2\": \"SELL\", \"action_3\": \"HOLD\", \"action_4\": \"BUY\"}, {\"date\": \"2022-10-07T00:00:00\", \"actual\": 139.857986, \"position\": 145.189148, \"action\": \"SELL\", \"shares\": \"2\", \"action_2\": \"BUY\", \"action_3\": \"HOLD\", \"action_4\": \"SELL\"}, {\"date\": \"2022-10-10T00:00:00\", \"actual\": 140.18743899999998, \"position\": 139.857986, \"action\": \"BUY\", \"shares\": \"9\", \"action_2\": \"BUY\", \"action_3\": \"HOLD\", \"action_4\": \"SELL\"}, {\"date\": \"2022-10-11T00:00:00\", \"actual\": 138.749832, \"position\": 140.18743899999998, \"action\": \"BUY\", \"shares\": \"9\", \"action_2\": \"SELL\", \"action_3\": \"HOLD\", \"action_4\": \"SELL\"}, {\"date\": \"2022-10-12T00:00:00\", \"actual\": 138.11088600000002, \"position\": 138.749832, \"action\": \"BUY\", \"shares\": \"9\", \"action_2\": \"SELL\", \"action_3\": \"HOLD\", \"action_4\": \"BUY\"}, {\"date\": \"2022-10-13T00:00:00\", \"actual\": 142.753204, \"position\": 138.11088600000002, \"action\": \"SELL\", \"shares\": \"5\", \"action_2\": \"BUY\", \"action_3\": \"HOLD\", \"action_4\": \"BUY\"}, {\"date\": \"2022-10-14T00:00:00\", \"actual\": 138.150833, \"position\": 142.753204, \"action\": \"SELL\", \"shares\": \"5\", \"action_2\": \"SELL\", \"action_3\": \"HOLD\", \"action_4\": \"SELL\"}, {\"date\": \"2022-10-17T00:00:00\", \"actual\": 142.174164, \"position\": 138.150833, \"action\": \"SELL\", \"shares\": \"5\", \"action_2\": \"BUY\", \"action_3\": \"HOLD\", \"action_4\": \"BUY\"}, {\"date\": \"2022-10-18T00:00:00\", \"actual\": 143.511932, \"position\": 142.174164, \"action\": \"SELL\", \"shares\": \"5\", \"action_2\": \"BUY\", \"action_3\": \"HOLD\", \"action_4\": \"HOLD\"}, {\"date\": \"2022-10-19T00:00:00\", \"actual\": 143.62175, \"position\": 143.511932, \"action\": \"SELL\", \"shares\": \"5\", \"action_2\": \"BUY\", \"action_3\": \"HOLD\", \"action_4\": \"SELL\"}, {\"date\": \"2022-10-20T00:00:00\", \"actual\": 143.152527, \"position\": 143.62175, \"action\": \"SELL\", \"shares\": \"3\", \"action_2\": \"BUY\", \"action_3\": \"HOLD\", \"action_4\": \"SELL\"}, {\"date\": \"2022-10-21T00:00:00\", \"actual\": 147.026108, \"position\": 143.152527, \"action\": \"SELL\", \"shares\": \"1\", \"action_2\": \"SELL\", \"action_3\": \"HOLD\", \"action_4\": \"BUY\"}, {\"date\": \"2022-10-24T00:00:00\", \"actual\": 149.202484, \"position\": 147.026108, \"action\": \"SELL\", \"shares\": \"3\", \"action_2\": \"SELL\", \"action_3\": \"HOLD\", \"action_4\": \"BUY\"}, {\"date\": \"2022-10-25T00:00:00\", \"actual\": 152.08770800000002, \"position\": 149.202484, \"action\": \"HOLD\", \"shares\": \"0\", \"action_2\": \"BUY\", \"action_3\": \"HOLD\", \"action_4\": \"BUY\"}, {\"date\": \"2022-10-26T00:00:00\", \"actual\": 149.102661, \"position\": 152.08770800000002, \"action\": \"HOLD\", \"shares\": \"0\", \"action_2\": \"SELL\", \"action_3\": \"HOLD\", \"action_4\": \"BUY\"}, {\"date\": \"2022-10-27T00:00:00\", \"actual\": 144.560196, \"position\": 149.102661, \"action\": \"HOLD\", \"shares\": \"0\", \"action_2\": \"SELL\", \"action_3\": \"HOLD\", \"action_4\": \"HOLD\"}, {\"date\": \"2022-10-28T00:00:00\", \"actual\": 155.482086, \"position\": 144.560196, \"action\": \"HOLD\", \"shares\": \"0\", \"action_2\": \"SELL\", \"action_3\": \"HOLD\", \"action_4\": \"BUY\"}, {\"date\": \"2022-10-31T00:00:00\", \"actual\": 153.086044, \"position\": 155.482086, \"action\": \"HOLD\", \"shares\": \"0\", \"action_2\": \"SELL\", \"action_3\": \"HOLD\", \"action_4\": \"SELL\"}, {\"date\": \"2022-11-01T00:00:00\", \"actual\": 150.400497, \"position\": 153.086044, \"action\": \"HOLD\", \"shares\": \"0\", \"action_2\": \"SELL\", \"action_3\": \"HOLD\", \"action_4\": \"SELL\"}, {\"date\": \"2022-11-02T00:00:00\", \"actual\": 144.78981000000002, \"position\": 150.400497, \"action\": \"HOLD\", \"shares\": \"0\", \"action_2\": \"BUY\", \"action_3\": \"HOLD\", \"action_4\": \"SELL\"}, {\"date\": \"2022-11-03T00:00:00\", \"actual\": 138.650009, \"position\": 144.78981000000002, \"action\": \"HOLD\", \"shares\": \"0\", \"action_2\": \"BUY\", \"action_3\": \"HOLD\", \"action_4\": \"SELL\"}, {\"date\": \"2022-11-04T00:00:00\", \"actual\": 138.380005, \"position\": 138.650009, \"action\": \"HOLD\", \"shares\": \"0\", \"action_2\": \"BUY\", \"action_3\": \"HOLD\", \"action_4\": \"BUY\"}, {\"date\": \"2022-11-07T00:00:00\", \"actual\": 138.919998, \"position\": 138.380005, \"action\": \"HOLD\", \"shares\": \"0\", \"action_2\": \"BUY\", \"action_3\": \"HOLD\", \"action_4\": \"SELL\"}, {\"date\": \"2022-11-08T00:00:00\", \"actual\": 139.5, \"position\": 138.919998, \"action\": \"HOLD\", \"shares\": \"0\", \"action_2\": \"BUY\", \"action_3\": \"HOLD\", \"action_4\": \"HOLD\"}, {\"date\": \"2022-11-09T00:00:00\", \"actual\": 134.869995, \"position\": 139.5, \"action\": \"BUY\", \"shares\": \"9\", \"action_2\": \"BUY\", \"action_3\": \"HOLD\", \"action_4\": \"HOLD\"}, {\"date\": \"2022-11-10T00:00:00\", \"actual\": 146.869995, \"position\": 134.869995, \"action\": \"BUY\", \"shares\": \"9\", \"action_2\": \"BUY\", \"action_3\": \"HOLD\", \"action_4\": \"BUY\"}, {\"date\": \"2022-11-11T00:00:00\", \"actual\": 149.699997, \"position\": 146.869995, \"action\": \"SELL\", \"shares\": \"4\", \"action_2\": \"BUY\", \"action_3\": \"HOLD\", \"action_4\": \"BUY\"}, {\"date\": \"2022-11-14T00:00:00\", \"actual\": 148.279999, \"position\": 149.699997, \"action\": \"SELL\", \"shares\": \"5\", \"action_2\": \"BUY\", \"action_3\": \"HOLD\", \"action_4\": \"SELL\"}, {\"date\": \"2022-11-15T00:00:00\", \"actual\": 150.03999299999998, \"position\": 148.279999, \"action\": \"SELL\", \"shares\": \"3\", \"action_2\": \"SELL\", \"action_3\": \"HOLD\", \"action_4\": \"SELL\"}, {\"date\": \"2022-11-16T00:00:00\", \"actual\": 148.78999299999998, \"position\": 150.03999299999998, \"action\": \"SELL\", \"shares\": \"5\", \"action_2\": \"SELL\", \"action_3\": \"HOLD\", \"action_4\": \"SELL\"}, {\"date\": \"2022-11-17T00:00:00\", \"actual\": 150.720001, \"position\": 148.78999299999998, \"action\": \"SELL\", \"shares\": \"1\", \"action_2\": \"BUY\", \"action_3\": \"HOLD\", \"action_4\": \"SELL\"}, {\"date\": \"2022-11-18T00:00:00\", \"actual\": 151.28999299999998, \"position\": 150.720001, \"action\": \"HOLD\", \"shares\": \"0\", \"action_2\": \"SELL\", \"action_3\": \"HOLD\", \"action_4\": \"BUY\"}, {\"date\": \"2022-11-21T00:00:00\", \"actual\": 148.009995, \"position\": 151.28999299999998, \"action\": \"HOLD\", \"shares\": \"0\", \"action_2\": \"SELL\", \"action_3\": \"HOLD\", \"action_4\": \"HOLD\"}, {\"date\": \"2022-11-22T00:00:00\", \"actual\": 150.179993, \"position\": 148.009995, \"action\": \"HOLD\", \"shares\": \"0\", \"action_2\": \"BUY\", \"action_3\": \"HOLD\", \"action_4\": \"SELL\"}, {\"date\": \"2022-11-23T00:00:00\", \"actual\": 151.070007, \"position\": 150.179993, \"action\": \"HOLD\", \"shares\": \"0\", \"action_2\": \"SELL\", \"action_3\": \"HOLD\", \"action_4\": \"BUY\"}, {\"date\": \"2022-11-25T00:00:00\", \"actual\": 148.110001, \"position\": 151.070007, \"action\": \"HOLD\", \"shares\": \"0\", \"action_2\": \"SELL\", \"action_3\": \"HOLD\", \"action_4\": \"BUY\"}, {\"date\": \"2022-11-28T00:00:00\", \"actual\": 144.220001, \"position\": 148.110001, \"action\": \"HOLD\", \"shares\": \"0\", \"action_2\": \"BUY\", \"action_3\": \"HOLD\", \"action_4\": \"BUY\"}, {\"date\": \"2022-11-29T00:00:00\", \"actual\": 141.169998, \"position\": 144.220001, \"action\": \"HOLD\", \"shares\": \"0\", \"action_2\": \"SELL\", \"action_3\": \"HOLD\", \"action_4\": \"HOLD\"}, {\"date\": \"2022-11-30T00:00:00\", \"actual\": 148.029999, \"position\": 141.169998, \"action\": \"HOLD\", \"shares\": \"0\", \"action_2\": \"BUY\", \"action_3\": \"HOLD\", \"action_4\": \"SELL\"}, {\"date\": \"2022-12-01T00:00:00\", \"actual\": 148.309998, \"position\": 148.029999, \"action\": \"BUY\", \"shares\": \"9\", \"action_2\": \"SELL\", \"action_3\": \"HOLD\", \"action_4\": \"BUY\"}, {\"date\": \"2022-12-02T00:00:00\", \"actual\": 147.809998, \"position\": 148.309998, \"action\": \"BUY\", \"shares\": \"9\", \"action_2\": \"SELL\", \"action_3\": \"HOLD\", \"action_4\": \"BUY\"}]}}, {\"mode\": \"vega-lite\"});\n",
       "</script>"
      ],
      "text/plain": [
       "alt.LayerChart(...)"
      ]
     },
     "execution_count": 102,
     "metadata": {},
     "output_type": "execute_result"
    }
   ],
   "source": [
    "chart = visualize(df, history, history_2, history_3, history_4, title=\"Buy/Sell visualiztion on AAPL\")\n",
    "chart"
   ]
  },
  {
   "cell_type": "markdown",
   "metadata": {},
   "source": [
    "TSLA\n",
    "1. 30 TSLA dqn-TSLA -407.6066880000003\n",
    "2. 30 TSLA t-dqn-TSLA 83.97006600000003\n",
    "3. 10 TSLA double-dqn-TSLA -336.7500529999985\n",
    "4. 50 TSLA t-dqn-AAPL 373.1366349999993\n",
    "5. 50 TSLA t-dqn-QQQ -363.70002099999977\n",
    "\n",
    "AAPL:\n",
    "1. 30 AAPL t-dqn-TSLA -141.72960599999996\n",
    "2. 20 AAPL t-dqn-QQQ 223.63701199999863\n",
    "3. 50 AAPL t-dqn-AAPL 1132.2992560000007\n",
    "\n",
    "QQQ:\n",
    "1. 40 QQQ t-dqn-QQQ 802.8413460000033\n",
    "2. 50 QQQ t-dqn-AAPL 2089.2887640000035\n",
    "3. 30 QQQ t-dqn-TSLA 3.389739000000361"
   ]
  },
  {
   "cell_type": "code",
   "execution_count": 51,
   "metadata": {},
   "outputs": [],
   "source": [
    "import matplotlib.pyplot as plt\n",
    "\n",
    "def plot(x, y, y_error, title):\n",
    "    plt.plot(x, y)\n",
    "    plt.errorbar(x, y,\n",
    "             yerr = y_error,\n",
    "             fmt ='o')\n",
    "    plt.title(title)\n",
    "    # plt.show()\n",
    "    plt.savefig(title + \".png\", bbox_inches='tight')\n"
   ]
  },
  {
   "cell_type": "code",
   "execution_count": 57,
   "metadata": {},
   "outputs": [
    {
     "data": {
      "image/png": "[encoded data removed]",
      "text/plain": [
       "<Figure size 640x480 with 1 Axes>"
      ]
     },
     "metadata": {},
     "output_type": "display_data"
    }
   ],
   "source": [
    "plot(\n",
    "    ['DQN', 't-DQN', 'Double DQN', 'Random'],\n",
    "    [-407.6066880000003, 83.97006600000003, -336.7500529999985, np.mean(TSLA_randoms)],\n",
    "    [0, 0, 0, np.std(TSLA_randoms)],\n",
    "    \"Comparison between 3 RL algorithms (test on TSLA)\"\n",
    ")"
   ]
  },
  {
   "cell_type": "code",
   "execution_count": 53,
   "metadata": {},
   "outputs": [
    {
     "data": {
      "image/png": "[encoded data removed]",
      "text/plain": [
       "<Figure size 640x480 with 1 Axes>"
      ]
     },
     "metadata": {},
     "output_type": "display_data"
    }
   ],
   "source": [
    "\"\"\"TSLA\n",
    "1. 30 TSLA dqn-TSLA -407.6066880000003\n",
    "2. 30 TSLA t-dqn-TSLA 83.97006600000003\n",
    "3. 10 TSLA double-dqn-TSLA -336.7500529999985\n",
    "4. 50 TSLA t-dqn-AAPL 373.1366349999993\n",
    "5. 50 TSLA t-dqn-QQQ -363.70002099999977\"\"\"\n",
    "plot(\n",
    "    ['t-DQN (TSLA)', 't-DQN (AAPL)', 't-DQN (QQQ)', 'Random'],\n",
    "    [83.97006600000003, 373.1366349999993, -363.70002099999977, np.mean(TSLA_randoms)],\n",
    "    [0, 0, 0, np.std(TSLA_randoms)],\n",
    "    \"Comparison between 3 agents that are trained on different data (test on TSLA)\"\n",
    ")"
   ]
  },
  {
   "cell_type": "code",
   "execution_count": 56,
   "metadata": {},
   "outputs": [
    {
     "data": {
      "image/png": "[encoded data removed]",
      "text/plain": [
       "<Figure size 640x480 with 1 Axes>"
      ]
     },
     "metadata": {},
     "output_type": "display_data"
    }
   ],
   "source": [
    "plot(\n",
    "    ['t-DQN (TSLA)', 't-DQN (AAPL)', 't-DQN (QQQ)', 'Random'],\n",
    "    [-141.72960599999996, 1132.2992560000007, 223.63701199999863, np.mean(AAPL_randoms)],\n",
    "    [0, 0, 0, np.std(AAPL_randoms)],\n",
    "    \"Comparison between 3 agents that are trained on different data (test on AAPL)\"\n",
    ")"
   ]
  },
  {
   "cell_type": "code",
   "execution_count": 55,
   "metadata": {},
   "outputs": [
    {
     "data": {
      "image/png": "[encoded data removed]",
      "text/plain": [
       "<Figure size 640x480 with 1 Axes>"
      ]
     },
     "metadata": {},
     "output_type": "display_data"
    }
   ],
   "source": [
    "plot(\n",
    "    ['t-DQN (TSLA)', 't-DQN (AAPL)', 't-DQN (QQQ)', 'Random'],\n",
    "    [3.389739000000361, 2089.2887640000035, 802.8413460000033, np.mean(QQQ_randoms)],\n",
    "    [0, 0, 0, np.std(QQQ_randoms)],\n",
    "    \"Comparison between 3 agents that are trained on different data (test on QQQ)\"\n",
    ")"
   ]
  },
  {
   "cell_type": "code",
   "execution_count": null,
   "metadata": {},
   "outputs": [],
   "source": []
  }
 ],
 "metadata": {
  "kernelspec": {
   "display_name": "Python 3.7.15 ('trading-bot')",
   "language": "python",
   "name": "python3"
  },
  "language_info": {
   "codemirror_mode": {
    "name": "ipython",
    "version": 3
   },
   "file_extension": ".py",
   "mimetype": "text/x-python",
   "name": "python",
   "nbconvert_exporter": "python",
   "pygments_lexer": "ipython3",
   "version": "3.7.15"
  },
  "vscode": {
   "interpreter": {
    "hash": "7c6b9698ee7a4f0cf5e4b471fb2ccd3d1b769090c63d56ed9ded20bdf25cba81"
   }
  }
 },
 "nbformat": 4,
 "nbformat_minor": 4
}
